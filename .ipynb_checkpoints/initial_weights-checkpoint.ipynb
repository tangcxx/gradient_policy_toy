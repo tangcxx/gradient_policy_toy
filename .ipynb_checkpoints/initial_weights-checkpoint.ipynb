{
 "cells": [
  {
   "cell_type": "code",
   "execution_count": 1,
   "id": "424fc8e6-e309-4608-b270-a4fd7161eaaf",
   "metadata": {},
   "outputs": [],
   "source": [
    "import numpy as np\n",
    "import tensorflow as tf\n",
    "from tensorflow import keras\n",
    "from tensorflow.keras.layers import Input, Dense, BatchNormalization, ReLU, Dropout\n",
    "from tensorflow.keras.models import Model\n",
    "from itertools import product\n",
    "\n",
    "import functions as fs\n",
    "from functions import make_state, run, get_optimal_action_and_value, get_optimal_actions_and_values, get_model_actions\n",
    "from functions import test_model, one_batch, one_batch_supervised, train, train_supervised, create_model"
   ]
  },
  {
   "cell_type": "code",
   "execution_count": null,
   "id": "b81b8816-1a06-494f-813c-eafc6104867f",
   "metadata": {},
   "outputs": [],
   "source": []
  },
  {
   "cell_type": "markdown",
   "id": "58550bb9-cf83-4574-9220-cc9ea6754bfd",
   "metadata": {},
   "source": [
    "## 测试初始值"
   ]
  },
  {
   "cell_type": "code",
   "execution_count": 2,
   "id": "930b2125-cbb9-4c18-93d4-3bc7fe31a8a4",
   "metadata": {},
   "outputs": [],
   "source": [
    "def init_test(n_tests):\n",
    "    optimilizer = 'adam'\n",
    "    n_hidden_layers = 1\n",
    "    n_dense_units = 512\n",
    "    ratio_dropout = 0.5\n",
    "    res = []\n",
    "    for i in np.arange(n_tests):\n",
    "        model = create_model(n_hidden_layers, n_dense_units, ratio_dropout, optimilizer)\n",
    "        scores = np.array([one_batch(model, batch_size=128, n_test_rounds=10000) for i in np.arange(200)])[:,0]\n",
    "        argmax = scores.argmax()\n",
    "        res.append((argmax, scores[argmax]))\n",
    "        print(argmax, scores[argmax])\n",
    "    return res"
   ]
  },
  {
   "cell_type": "code",
   "execution_count": null,
   "id": "e431f16a-8786-4b2b-ad99-80bf71598eb0",
   "metadata": {},
   "outputs": [],
   "source": [
    "res = init_test(100)"
   ]
  },
  {
   "cell_type": "code",
   "execution_count": null,
   "id": "7c6196a4-b913-4432-8805-857a44876d91",
   "metadata": {},
   "outputs": [],
   "source": []
  },
  {
   "cell_type": "code",
   "execution_count": null,
   "id": "dc104180-5426-44ec-a82b-4d864b068367",
   "metadata": {},
   "outputs": [],
   "source": []
  },
  {
   "cell_type": "code",
   "execution_count": null,
   "id": "fd6e3fe0-c5f1-4880-86e8-d4db3093a4a3",
   "metadata": {},
   "outputs": [],
   "source": []
  }
 ],
 "metadata": {
  "kernelspec": {
   "display_name": "Python 3 (ipykernel)",
   "language": "python",
   "name": "python3"
  },
  "language_info": {
   "codemirror_mode": {
    "name": "ipython",
    "version": 3
   },
   "file_extension": ".py",
   "mimetype": "text/x-python",
   "name": "python",
   "nbconvert_exporter": "python",
   "pygments_lexer": "ipython3",
   "version": "3.9.13"
  }
 },
 "nbformat": 4,
 "nbformat_minor": 5
}
