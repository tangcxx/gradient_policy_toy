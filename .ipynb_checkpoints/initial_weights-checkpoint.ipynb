{
 "cells": [
  {
   "cell_type": "code",
   "execution_count": 1,
   "id": "424fc8e6-e309-4608-b270-a4fd7161eaaf",
   "metadata": {},
   "outputs": [],
   "source": [
    "import numpy as np\n",
    "import tensorflow as tf\n",
    "from tensorflow import keras\n",
    "from tensorflow.keras.layers import Input, Dense, BatchNormalization, ReLU, Dropout\n",
    "from tensorflow.keras.models import Model\n",
    "from itertools import product"
   ]
  },
  {
   "cell_type": "markdown",
   "id": "2bf5d4ac-5549-4dc6-b7cc-97e21e379fcb",
   "metadata": {},
   "source": [
    "# 单步奖励收集\n",
    "\n",
    "这是一个用于练习策略梯度法 (policy gradient method) 的玩具题。  \n",
    "8个格子首尾相连，其中随机3个格子奖励，奖励数值为0~1的均匀随机数。  \n",
    "动作：选择一个格子。\n",
    "计分规则：  \n",
    "1. 如果格子有奖励（大于0），获得对应的奖励。\n",
    "2. 如果格子是空的（等于0），且两侧的格子都有奖励，会获得两侧格子的总奖励。\n",
    "3. 否则奖励为0。"
   ]
  },
  {
   "cell_type": "markdown",
   "id": "810d9f7e-738a-4cf2-9f0b-a50114c1f6e4",
   "metadata": {},
   "source": [
    "## 相关函数\n",
    "创建环境，计算理想得分，模拟多次计算期望"
   ]
  },
  {
   "cell_type": "code",
   "execution_count": 2,
   "id": "af7d4297-d55c-4421-bc81-ae26fc7342fc",
   "metadata": {},
   "outputs": [],
   "source": [
    "def make_slots():\n",
    "    slots = np.zeros(8)\n",
    "    slots[np.random.choice(8, size=3, replace=False)] = np.random.uniform(size=3)\n",
    "    return slots\n",
    "\n",
    "def run(slots, action):\n",
    "    slots_cyclic = np.concatenate((slots, slots[0:2]))\n",
    "    if slots_cyclic[action] != 0:\n",
    "        return slots_cyclic[action]\n",
    "    elif slots_cyclic[action-1] != 0 and slots_cyclic[action+1] != 0:\n",
    "        return slots_cyclic[action-1] + slots_cyclic[action+1]\n",
    "    else:\n",
    "        return 0\n",
    "\n",
    "def get_optimal_value(slots):\n",
    "    value = slots.max()\n",
    "\n",
    "    slots_cyclic = np.concatenate((slots, slots[0:2]))\n",
    "    for i in np.arange(1, 9):\n",
    "        if slots_cyclic[i] == 0 and slots_cyclic[i-1] != 0 and slots_cyclic[i+1] != 0:\n",
    "            value2 = slots_cyclic[i-1] + slots_cyclic[i+1]\n",
    "            if value2 > value:\n",
    "                value = value2\n",
    "    return value\n",
    "\n",
    "def get_optimal_statics(n_rounds):\n",
    "    values = []\n",
    "    for i in np.arange(n_rounds):\n",
    "        slots = make_slots()\n",
    "        values.append(get_optimal_value(slots))\n",
    "    return np.mean(values), np.std(values)\n",
    "\n",
    "def get_baseline_value(n_rounds):\n",
    "    value = 0\n",
    "    for i in np.arange(n_rounds):\n",
    "        slots = make_slots()\n",
    "        action = np.random.choice(8)\n",
    "        value += run(slots, action)\n",
    "    return value/n_rounds\n",
    "    "
   ]
  },
  {
   "cell_type": "markdown",
   "id": "46fb7d81-09d6-4964-a8ce-31f9fc6d7eba",
   "metadata": {},
   "source": [
    "## 创建模型"
   ]
  },
  {
   "cell_type": "code",
   "execution_count": 3,
   "id": "cffab5c3-6dfa-447c-97dc-cda37d7cf197",
   "metadata": {},
   "outputs": [],
   "source": [
    "def create_model(n_hidden_layers, n_dense_units, ratio_dropout, optimizer):\n",
    "    input_shape = (8,) \n",
    "    inputs = Input(shape=input_shape)\n",
    "\n",
    "    x = inputs\n",
    "    for i in np.arange(n_hidden_layers):\n",
    "        x = Dense(n_dense_units)(x) \n",
    "        x = BatchNormalization()(x)\n",
    "        x = ReLU()(x)\n",
    "        x = Dropout(ratio_dropout)(x)\n",
    "    \n",
    "    outputs = Dense(8, activation='softmax')(x)\n",
    "    model = Model(inputs, outputs)\n",
    "    model.compile(optimizer=optimizer, \n",
    "                  loss='categorical_crossentropy')\n",
    "    return model\n",
    "\n",
    "def test_model(model, slots):\n",
    "    prob = model(np.array([slots])).numpy()\n",
    "    action = prob.argmax()\n",
    "    return run(slots, action)\n",
    "\n",
    "def test_model_n_rounds(model, n_rounds):\n",
    "    rewards = 0\n",
    "    slots_list = np.array([make_slots() for i in np.arange(n_rounds)])\n",
    "    prob_list = model(slots_list).numpy()\n",
    "    for i, prob in enumerate(prob_list):\n",
    "        action = prob.argmax()\n",
    "        rewards += run(slots_list[i], action)\n",
    "    return rewards/n_rounds\n",
    "\n",
    "def one_epoch(model, batch_size, n_test_rounds=0):\n",
    "    slots_list = []\n",
    "    y_target_list = []\n",
    "    # rewards = 0\n",
    "    for i in np.arange(batch_size):\n",
    "        slots = make_slots()\n",
    "        slots_list.append(slots)\n",
    "    prob_list = model(np.array(slots_list)).numpy()\n",
    "    for i, prob in enumerate(prob_list):\n",
    "        y_target = np.zeros(8)\n",
    "        slots = slots_list[i]\n",
    "        # prob[7] = 1 - np.sum(prob[0:7])\n",
    "        action = np.random.choice(8, p=prob)\n",
    "        reward = run(slots, action)\n",
    "        # rewards += reward\n",
    "        y_target[action] = reward\n",
    "        y_target_list.append(y_target)\n",
    "    model.fit(np.array(slots_list), np.array(y_target_list), verbose = 0)\n",
    "    if n_test_rounds > 0:\n",
    "        return (test_model_n_rounds(model, n_test_rounds))\n",
    "    # return rewards/n_rounds\n"
   ]
  },
  {
   "cell_type": "code",
   "execution_count": null,
   "id": "b81b8816-1a06-494f-813c-eafc6104867f",
   "metadata": {},
   "outputs": [],
   "source": []
  },
  {
   "cell_type": "markdown",
   "id": "58550bb9-cf83-4574-9220-cc9ea6754bfd",
   "metadata": {},
   "source": [
    "## 测试初始值"
   ]
  },
  {
   "cell_type": "code",
   "execution_count": 4,
   "id": "930b2125-cbb9-4c18-93d4-3bc7fe31a8a4",
   "metadata": {},
   "outputs": [],
   "source": [
    "def init_test(n_tests):\n",
    "    optimilizer = 'adam'\n",
    "    n_hidden_layers = 2\n",
    "    n_dense_units = 64\n",
    "    ratio_dropout = 0.5\n",
    "    res = []\n",
    "    for i in np.arange(n_tests):\n",
    "        model = create_model(n_hidden_layers, n_dense_units, ratio_dropout, optimilizer)\n",
    "        scores = np.array([one_epoch(model, batch_size=128, n_test_rounds=10000) for i in np.arange(200)])\n",
    "        argmax = scores.argmax()\n",
    "        res.append((argmax, scores[argmax]))\n",
    "        print(argmax, scores[argmax])\n",
    "    return res"
   ]
  },
  {
   "cell_type": "code",
   "execution_count": null,
   "id": "e431f16a-8786-4b2b-ad99-80bf71598eb0",
   "metadata": {},
   "outputs": [],
   "source": [
    "res = init_test(100)"
   ]
  },
  {
   "cell_type": "code",
   "execution_count": null,
   "id": "7c6196a4-b913-4432-8805-857a44876d91",
   "metadata": {},
   "outputs": [],
   "source": []
  },
  {
   "cell_type": "code",
   "execution_count": null,
   "id": "dc104180-5426-44ec-a82b-4d864b068367",
   "metadata": {},
   "outputs": [],
   "source": []
  },
  {
   "cell_type": "code",
   "execution_count": null,
   "id": "fd6e3fe0-c5f1-4880-86e8-d4db3093a4a3",
   "metadata": {},
   "outputs": [],
   "source": []
  }
 ],
 "metadata": {
  "kernelspec": {
   "display_name": "Python 3 (ipykernel)",
   "language": "python",
   "name": "python3"
  },
  "language_info": {
   "codemirror_mode": {
    "name": "ipython",
    "version": 3
   },
   "file_extension": ".py",
   "mimetype": "text/x-python",
   "name": "python",
   "nbconvert_exporter": "python",
   "pygments_lexer": "ipython3",
   "version": "3.9.13"
  }
 },
 "nbformat": 4,
 "nbformat_minor": 5
}
