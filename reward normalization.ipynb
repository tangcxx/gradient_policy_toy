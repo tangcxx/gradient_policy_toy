{
 "cells": [
  {
   "cell_type": "code",
   "execution_count": 10,
   "id": "424fc8e6-e309-4608-b270-a4fd7161eaaf",
   "metadata": {},
   "outputs": [],
   "source": [
    "import numpy as np\n",
    "import tensorflow as tf\n",
    "from tensorflow import keras\n",
    "from tensorflow.keras.layers import Input, Dense, BatchNormalization, ReLU, Dropout\n",
    "from tensorflow.keras.models import Model, clone_model\n",
    "from itertools import product\n",
    "\n",
    "UNIFORM_LOW, UNIFORM_HIGH = 0.0, 1.0\n",
    "\n",
    "def make_state():\n",
    "    state = np.zeros(8)\n",
    "    state[np.random.choice(8, size=3, replace=False)] = np.random.uniform(UNIFORM_LOW, UNIFORM_HIGH,size=3)\n",
    "    return state\n",
    "\n",
    "def run(state, action):\n",
    "    state_cyclic = np.concatenate((state, state[0:2]))\n",
    "    if state_cyclic[action] != 0:\n",
    "        return state_cyclic[action]\n",
    "    elif state_cyclic[action-1] != 0 and state_cyclic[action+1] != 0:\n",
    "        return state_cyclic[action-1] + state_cyclic[action+1]\n",
    "    else:\n",
    "        return 0\n",
    "\n",
    "def get_optimal_value(state):\n",
    "    value = state.max()\n",
    "\n",
    "    state_cyclic = np.concatenate((state, state[0:2]))\n",
    "    for i in np.arange(1, 9):\n",
    "        if state_cyclic[i] == 0 and state_cyclic[i-1] != 0 and state_cyclic[i+1] != 0:\n",
    "            value2 = state_cyclic[i-1] + state_cyclic[i+1]\n",
    "            if value2 > value:\n",
    "                value = value2\n",
    "    return value\n",
    "\n",
    "def get_optimal_statics(n_rounds):\n",
    "    values = np.array([get_optimal_value(make_state()) for i in np.arange(n_rounds)])\n",
    "    return np.mean(values), np.std(values)\n",
    "\n",
    "def get_baseline_value(n_rounds):\n",
    "    values = [run(make_state(), np.random.choice(8)) for i in np.arange(n_rounds)]\n",
    "    return np.mean(values)\n",
    "    \n",
    "\n",
    "def get_optimal_action(state):\n",
    "    action = state.argmax()\n",
    "    value = state[action]\n",
    "    state_cyclic = np.concatenate((state, state[0:2]))\n",
    "    for i in np.arange(1, 9):\n",
    "        if state_cyclic[i] == 0 and state_cyclic[i-1] != 0 and state_cyclic[i+1] != 0:\n",
    "            value2 = state_cyclic[i-1] + state_cyclic[i+1]\n",
    "            if value2 > value:\n",
    "                value = value2\n",
    "                action = i % 8\n",
    "    return action\n",
    "\n",
    "def get_optimal_actions(state_list):\n",
    "    return np.array([get_optimal_action(state) for state in state_list])\n",
    "    \n",
    "\n",
    "def get_model_actions(model, state_list):\n",
    "    return model(np.array(state_list)).numpy().argmax(axis = 1)\n",
    "\n",
    "def test_model(model, n_test_rounds):\n",
    "    state_list = np.array([make_state() for i in np.arange(n_test_rounds)])\n",
    "    actions = get_model_actions(model, state_list)\n",
    "    values = [run(state, action) for state, action in zip(state_list, actions)]\n",
    "    optimal_values = np.array([get_optimal_value(state) for state in state_list])\n",
    "    accuracy = np.sum(np.abs(optimal_values - values) < 1e-6)/n_test_rounds\n",
    "    return np.mean(values), np.std(values), accuracy\n",
    "\n",
    "def train(model, max_batch=200, batch_size=128, n_test_rounds=10000, verbose = 0):\n",
    "    best_weights = []\n",
    "    best_idx = 0\n",
    "    best_score = 0\n",
    "    for i in np.arange(max_batch):\n",
    "        score, std, accuracy = one_batch(model, batch_size, n_test_rounds)\n",
    "        if best_score < score:\n",
    "            best_score = score\n",
    "            best_idx = i\n",
    "            best_weights = model.get_weights()\n",
    "        if verbose == 1:\n",
    "            print(i, score)\n",
    "    return best_idx, best_score, best_weights\n",
    "\n",
    "def create_model(n_hidden_layers, n_dense_units, ratio_dropout, optimizer):\n",
    "    input_shape = (8,) \n",
    "    inputs = Input(shape=input_shape)\n",
    "\n",
    "    x = inputs\n",
    "    for i in np.arange(n_hidden_layers):\n",
    "        x = Dense(n_dense_units)(x) \n",
    "        x = BatchNormalization()(x)\n",
    "        x = ReLU()(x)\n",
    "        x = Dropout(ratio_dropout)(x)\n",
    "    \n",
    "    outputs = Dense(8, activation='softmax')(x)\n",
    "    model = Model(inputs, outputs)\n",
    "    model.compile(optimizer=optimizer, \n",
    "                  loss='categorical_crossentropy')\n",
    "    return model\n"
   ]
  },
  {
   "cell_type": "code",
   "execution_count": null,
   "id": "b4396982-3d69-4925-bcb0-ed192e6a1e46",
   "metadata": {},
   "outputs": [],
   "source": []
  },
  {
   "cell_type": "code",
   "execution_count": null,
   "id": "566f8a5f-9ded-4e89-a1f5-e4b5197ff20f",
   "metadata": {},
   "outputs": [],
   "source": []
  },
  {
   "cell_type": "code",
   "execution_count": null,
   "id": "610e553d-c497-48b2-a8a6-fa7136d517e3",
   "metadata": {},
   "outputs": [],
   "source": []
  },
  {
   "cell_type": "markdown",
   "id": "6bb980bc-15d7-4457-aaea-b4312895c248",
   "metadata": {},
   "source": [
    "## 试验场"
   ]
  },
  {
   "cell_type": "markdown",
   "id": "a5b609c8-8863-42d5-8c93-6e58d66e9b0a",
   "metadata": {},
   "source": [
    "## 不同奖励随机数区间"
   ]
  },
  {
   "cell_type": "code",
   "execution_count": 85,
   "id": "96b7deff-a8fd-4e28-af79-bb0ef4ea6bbc",
   "metadata": {},
   "outputs": [],
   "source": [
    "def one_batch(model, batch_size, n_test_rounds=0):\n",
    "    y_target_list = np.zeros((batch_size, 8))\n",
    "    state_list = np.array([make_state() for i in np.arange(batch_size)])\n",
    "    prob_list = model(np.array(state_list)).numpy()\n",
    "    actions = np.array([np.random.choice(8, p=prob) for prob in prob_list])\n",
    "    values = np.array([run(state, action) for state, action in zip(state_list, actions)])\n",
    "    mean, std = np.mean(values), np.std(values)\n",
    "    for i in np.arange(batch_size):\n",
    "        y_target_list[i, actions[i]] = values[i]\n",
    "    model.fit(state_list, y_target_list, verbose = 0)\n",
    "    if n_test_rounds > 0:\n",
    "        return test_model(model, n_test_rounds)\n"
   ]
  },
  {
   "cell_type": "code",
   "execution_count": 86,
   "id": "63431a58-a697-4dda-9278-1ee53fd826d5",
   "metadata": {},
   "outputs": [],
   "source": [
    "REWARD_OFFSET, REWARD_SCALE = 0, 1\n",
    "model = create_model(n_hidden_layers=1, n_dense_units=512, ratio_dropout=0.5, optimizer='adam')"
   ]
  },
  {
   "cell_type": "code",
   "execution_count": 87,
   "id": "abe32d79-1dc7-40da-9bca-ac163e7f42bb",
   "metadata": {
    "scrolled": true
   },
   "outputs": [
    {
     "data": {
      "text/plain": [
       "(np.int64(75),\n",
       " np.float64(0.8915266636809518),\n",
       " np.float64(0.4496365138743235),\n",
       " np.float64(0.4589))"
      ]
     },
     "execution_count": 87,
     "metadata": {},
     "output_type": "execute_result"
    }
   ],
   "source": [
    "UNIFORM_LOW, UNIFORM_HIGH = 0.0, 1.0\n",
    "best_idx, best_score, best_weights = train(model, 200, verbose = 0)\n",
    "best_model = clone_model(model)\n",
    "best_model.set_weights(best_weights)\n",
    "best_idx, *test_model(best_model, 10000)"
   ]
  },
  {
   "cell_type": "code",
   "execution_count": null,
   "id": "17e29a2e-892c-4803-9704-9550fa1deec6",
   "metadata": {},
   "outputs": [],
   "source": []
  },
  {
   "cell_type": "code",
   "execution_count": 88,
   "id": "b607ff89-a092-4cda-a74b-60e80540eef2",
   "metadata": {
    "scrolled": true
   },
   "outputs": [
    {
     "data": {
      "text/plain": [
       "(np.int64(50),\n",
       " np.float64(2.1845612182347165),\n",
       " np.float64(0.8181453849324378),\n",
       " np.float64(0.3295))"
      ]
     },
     "execution_count": 88,
     "metadata": {},
     "output_type": "execute_result"
    }
   ],
   "source": [
    "model = create_model(n_hidden_layers=1, n_dense_units=512, ratio_dropout=0.5, optimizer='adam')\n",
    "UNIFORM_LOW, UNIFORM_HIGH = 1.0, 2.0\n",
    "best_idx, best_score, best_weights = train(model, 200, verbose = 0)\n",
    "best_model = clone_model(model)\n",
    "best_model.set_weights(best_weights)\n",
    "best_idx, *test_model(best_model, 10000)"
   ]
  },
  {
   "cell_type": "code",
   "execution_count": null,
   "id": "fae60200-3d91-4407-8f3b-61b1656de7b0",
   "metadata": {},
   "outputs": [],
   "source": []
  },
  {
   "cell_type": "code",
   "execution_count": 89,
   "id": "a967f5b7-07ef-4b23-9c78-485c1c70d8fe",
   "metadata": {
    "scrolled": true
   },
   "outputs": [
    {
     "data": {
      "text/plain": [
       "(np.int64(55),\n",
       " np.float64(7.661252113309711),\n",
       " np.float64(4.264092118060707),\n",
       " np.float64(0.2442))"
      ]
     },
     "execution_count": 89,
     "metadata": {},
     "output_type": "execute_result"
    }
   ],
   "source": [
    "model = create_model(n_hidden_layers=1, n_dense_units=512, ratio_dropout=0.5, optimizer='adam')\n",
    "UNIFORM_LOW, UNIFORM_HIGH = 5.0, 10.0\n",
    "best_idx, best_score, best_weights = train(model, 200, verbose = 0)\n",
    "best_model = clone_model(model)\n",
    "best_model.set_weights(best_weights)\n",
    "best_idx, *test_model(best_model, 10000)"
   ]
  },
  {
   "cell_type": "code",
   "execution_count": null,
   "id": "f0177d8f-59da-4ded-b7d7-047c5817e5c4",
   "metadata": {},
   "outputs": [],
   "source": []
  },
  {
   "cell_type": "code",
   "execution_count": null,
   "id": "69e61554-345a-454c-98c1-c373dbd0d504",
   "metadata": {},
   "outputs": [],
   "source": []
  },
  {
   "cell_type": "code",
   "execution_count": null,
   "id": "b41c5ee4-fbec-4ff4-abee-047efe0dd57b",
   "metadata": {},
   "outputs": [],
   "source": []
  },
  {
   "cell_type": "markdown",
   "id": "02706e19-d450-4e18-a703-b450285fda4d",
   "metadata": {},
   "source": [
    "## 奖励归一化"
   ]
  },
  {
   "cell_type": "code",
   "execution_count": 71,
   "id": "044dc986-9e51-4921-ad08-96b8978d8494",
   "metadata": {},
   "outputs": [],
   "source": [
    "def one_batch(model, batch_size, n_test_rounds=0):\n",
    "    y_target_list = np.zeros((batch_size, 8))\n",
    "    state_list = np.array([make_state() for i in np.arange(batch_size)])\n",
    "    prob_list = model(np.array(state_list)).numpy()\n",
    "    actions = np.array([np.random.choice(8, p=prob) for prob in prob_list])\n",
    "    values = np.array([run(state, action) for state, action in zip(state_list, actions)])\n",
    "    mean, std = np.mean(values), np.std(values)\n",
    "    values = (values - mean) / std\n",
    "    for i in np.arange(batch_size):\n",
    "        y_target_list[i, actions[i]] = values[i]\n",
    "    model.fit(state_list, y_target_list, verbose = 0)\n",
    "    if n_test_rounds > 0:\n",
    "        return test_model(model, n_test_rounds)\n"
   ]
  },
  {
   "cell_type": "code",
   "execution_count": 72,
   "id": "2e050a5c-7b8f-4248-a481-52d95d9de80b",
   "metadata": {},
   "outputs": [],
   "source": [
    "UNIFORM_LOW, UNIFORM_HIGH = 0.0, 1.0"
   ]
  },
  {
   "cell_type": "code",
   "execution_count": 73,
   "id": "0abf94dd-d374-47e4-bda9-d97d88f885ee",
   "metadata": {},
   "outputs": [],
   "source": [
    "model = create_model(n_hidden_layers=1, n_dense_units=512, ratio_dropout=0.5, optimizer='adam')"
   ]
  },
  {
   "cell_type": "code",
   "execution_count": 74,
   "id": "2dec7872-a44e-4d0a-a024-ed68bff5c2b1",
   "metadata": {
    "scrolled": true
   },
   "outputs": [
    {
     "name": "stdout",
     "output_type": "stream",
     "text": [
      "0 0.48450028870495615\n",
      "1 0.567199260589272\n",
      "2 0.649784180656774\n",
      "3 0.6995362880177849\n",
      "4 0.7143633744852105\n",
      "5 0.7396556508091479\n",
      "6 0.7658560720357701\n",
      "7 0.7766654873607491\n",
      "8 0.7745581523378092\n",
      "9 0.7726639541447\n",
      "10 0.777553533052179\n",
      "11 0.7623883616783955\n",
      "12 0.7595480762735588\n",
      "13 0.7693552628589417\n",
      "14 0.7685875796718504\n",
      "15 0.8048357282045357\n",
      "16 0.7971057692158275\n",
      "17 0.8024816325197645\n",
      "18 0.7918795924860157\n",
      "19 0.7764481658791296\n",
      "20 0.7908871671370273\n",
      "21 0.7718546038373605\n",
      "22 0.7575453774001877\n",
      "23 0.7453947360624991\n",
      "24 0.7306656740756865\n",
      "25 0.713326680075315\n",
      "26 0.7142487416314653\n",
      "27 0.7348942441620832\n",
      "28 0.7635444483806129\n",
      "29 0.7919744525909784\n",
      "30 0.8193827415827855\n",
      "31 0.8168599539448765\n",
      "32 0.8165965765409152\n",
      "33 0.8321362600663319\n",
      "34 0.8569491116862826\n",
      "35 0.8531276780503234\n",
      "36 0.8518449061079763\n",
      "37 0.8570951380555298\n",
      "38 0.8561199138925832\n",
      "39 0.8490418487551975\n",
      "40 0.8322851151952738\n",
      "41 0.838230074920663\n",
      "42 0.8430196474609253\n",
      "43 0.8614930343027548\n",
      "44 0.8581553552216319\n",
      "45 0.8512203732409495\n",
      "46 0.851673973290121\n",
      "47 0.8639123927150857\n",
      "48 0.8678737381488856\n",
      "49 0.8707885819280551\n",
      "50 0.8475220312398373\n",
      "51 0.8585423047453236\n",
      "52 0.8690416420195448\n",
      "53 0.8790838757652875\n",
      "54 0.8773317349925979\n",
      "55 0.8766303345213813\n",
      "56 0.8839705500363727\n",
      "57 0.8900099825269954\n",
      "58 0.8820787501856716\n",
      "59 0.8721116010641504\n",
      "60 0.8719493096404871\n",
      "61 0.8965986294722564\n",
      "62 0.8916356140032357\n",
      "63 0.8830004205711801\n",
      "64 0.8724783116606466\n",
      "65 0.876681768808997\n",
      "66 0.8908638905124366\n",
      "67 0.8974301006148666\n",
      "68 0.8892688538150804\n",
      "69 0.8855013873055486\n",
      "70 0.888664200064391\n",
      "71 0.8809783644835587\n",
      "72 0.8946867939216396\n",
      "73 0.9041848189551293\n",
      "74 0.8932212629771342\n",
      "75 0.9017137123274784\n",
      "76 0.8849485547317434\n",
      "77 0.8886667596901443\n",
      "78 0.8829220215629817\n",
      "79 0.8992282070002405\n",
      "80 0.8941179833820655\n",
      "81 0.8883673308978608\n",
      "82 0.8980007865814154\n",
      "83 0.8892089179578015\n",
      "84 0.8904583626744781\n",
      "85 0.8975601676730878\n",
      "86 0.9075990025237687\n",
      "87 0.8940566956068836\n",
      "88 0.8804432491206199\n",
      "89 0.8772803227380144\n",
      "90 0.8790611559487581\n",
      "91 0.8710578761330254\n",
      "92 0.8736997489888645\n",
      "93 0.8921197375515709\n",
      "94 0.8856628844942923\n",
      "95 0.877449215460427\n",
      "96 0.8670475658587223\n",
      "97 0.8732508826547953\n",
      "98 0.8836639917999235\n",
      "99 0.8974343437786941\n",
      "100 0.8841796115924446\n",
      "101 0.8827150120267595\n",
      "102 0.8918818804326653\n",
      "103 0.889191626730163\n",
      "104 0.884342068712121\n",
      "105 0.8681498590334035\n",
      "106 0.8674355432912667\n",
      "107 0.8812440174284011\n",
      "108 0.8800100961171811\n",
      "109 0.8613837003505334\n",
      "110 0.8443098510897624\n",
      "111 0.8626386318318204\n",
      "112 0.8733800648438835\n",
      "113 0.8518484255872038\n",
      "114 0.8561765061591928\n",
      "115 0.881271428533805\n",
      "116 0.8583234655263102\n",
      "117 0.8389825901739585\n",
      "118 0.8455879000404357\n",
      "119 0.8542519084217214\n",
      "120 0.8625179681987211\n",
      "121 0.8356150586135094\n",
      "122 0.8521452198795676\n",
      "123 0.869482892964822\n",
      "124 0.8435394501561928\n",
      "125 0.8436850869903972\n",
      "126 0.8347390042869912\n",
      "127 0.8516277642041927\n",
      "128 0.8463773759681775\n",
      "129 0.8583296095915893\n",
      "130 0.866866777316329\n",
      "131 0.8658964895854339\n",
      "132 0.8558536379657536\n",
      "133 0.8466334576937795\n",
      "134 0.8272460982569045\n",
      "135 0.8363154631611905\n",
      "136 0.8563756782109422\n",
      "137 0.8501873846588862\n",
      "138 0.8507175936187161\n",
      "139 0.8267456675695041\n",
      "140 0.8141498091785939\n",
      "141 0.8232371795687975\n",
      "142 0.831124333660754\n",
      "143 0.8400053229029163\n",
      "144 0.8516387335568115\n",
      "145 0.8426890035755967\n",
      "146 0.8443570912182052\n",
      "147 0.8465985475737728\n",
      "148 0.8512035542363142\n",
      "149 0.8266399580818308\n",
      "150 0.8233443793915014\n",
      "151 0.8167165055562005\n",
      "152 0.8324760622306847\n",
      "153 0.8346345414255444\n",
      "154 0.8462434906112645\n",
      "155 0.8364856334501647\n",
      "156 0.8160962104993553\n",
      "157 0.8117246208975304\n",
      "158 0.8169144227482766\n",
      "159 0.8066903961069274\n",
      "160 0.7922454030040139\n",
      "161 0.8163028697551695\n",
      "162 0.8113385574847858\n",
      "163 0.7879678314843033\n",
      "164 0.7902411822246507\n",
      "165 0.7806856548307486\n",
      "166 0.7938186233994451\n",
      "167 0.7797778779175734\n",
      "168 0.7812007977061608\n",
      "169 0.7823696273383671\n",
      "170 0.7969289806108786\n",
      "171 0.7989016028357452\n",
      "172 0.8046317433067929\n",
      "173 0.7735710381849543\n",
      "174 0.7628436695423413\n",
      "175 0.7751145818808602\n",
      "176 0.7895318526555896\n",
      "177 0.7934109300763349\n",
      "178 0.8150138668233176\n",
      "179 0.8109760484505565\n",
      "180 0.7941544916052583\n",
      "181 0.7775205130859287\n",
      "182 0.7897229181641942\n",
      "183 0.7674597717688705\n",
      "184 0.7970484963612731\n",
      "185 0.805998001523458\n",
      "186 0.7812986381662\n",
      "187 0.7764433436796592\n",
      "188 0.7781660662520611\n",
      "189 0.7511983091650077\n",
      "190 0.7965459848374465\n",
      "191 0.8062563452503144\n",
      "192 0.7909500071287121\n",
      "193 0.7720539679288235\n",
      "194 0.7683669946059588\n",
      "195 0.7762735593351695\n",
      "196 0.7953640891689847\n",
      "197 0.7935070896724681\n",
      "198 0.7949184069519577\n",
      "199 0.7906277226376458\n"
     ]
    },
    {
     "data": {
      "text/plain": [
       "(np.int64(86),\n",
       " np.float64(0.8976678007662203),\n",
       " np.float64(0.4564339516322845),\n",
       " np.float64(0.5143))"
      ]
     },
     "execution_count": 74,
     "metadata": {},
     "output_type": "execute_result"
    }
   ],
   "source": [
    "best_idx, best_score, best_weights = train(model, 200, verbose = 1)\n",
    "best_model = clone_model(model)\n",
    "best_model.set_weights(best_weights)\n",
    "best_idx, *test_model(best_model, 10000)"
   ]
  },
  {
   "cell_type": "code",
   "execution_count": null,
   "id": "a70818c8-aba8-40f2-807e-ed3ab75a00ee",
   "metadata": {},
   "outputs": [],
   "source": []
  },
  {
   "cell_type": "code",
   "execution_count": 75,
   "id": "b445fb38-9b24-49a4-b7ef-7f010f039eee",
   "metadata": {
    "scrolled": true
   },
   "outputs": [
    {
     "data": {
      "text/plain": [
       "(np.int64(63),\n",
       " np.float64(12.283681408652946),\n",
       " np.float64(4.528869290742579),\n",
       " np.float64(0.4593))"
      ]
     },
     "execution_count": 75,
     "metadata": {},
     "output_type": "execute_result"
    }
   ],
   "source": [
    "UNIFORM_LOW, UNIFORM_HIGH = 5.0, 10.0\n",
    "\n",
    "model = create_model(n_hidden_layers=1, n_dense_units=512, ratio_dropout=0.5, optimizer='adam')\n",
    "\n",
    "best_idx, best_score, best_weights = train(model, 200, verbose = 0)\n",
    "best_model = clone_model(model)\n",
    "best_model.set_weights(best_weights)\n",
    "best_idx, *test_model(best_model, 10000)"
   ]
  },
  {
   "cell_type": "code",
   "execution_count": 80,
   "id": "f509aaf3-d40f-4e39-8b8c-778ebff5a4e1",
   "metadata": {},
   "outputs": [
    {
     "data": {
      "text/plain": [
       "(np.float64(12.413667127536385), np.float64(3.621633191384911))"
      ]
     },
     "execution_count": 80,
     "metadata": {},
     "output_type": "execute_result"
    }
   ],
   "source": [
    "get_optimal_statics(10000)"
   ]
  },
  {
   "cell_type": "code",
   "execution_count": null,
   "id": "de37649e-60b8-4ae1-84d3-cf060e6a2dab",
   "metadata": {},
   "outputs": [],
   "source": []
  },
  {
   "cell_type": "markdown",
   "id": "ac8f1ac6-a895-49b8-92ca-2471908b9b17",
   "metadata": {},
   "source": [
    "## 奖励归一化-不减去平均值"
   ]
  },
  {
   "cell_type": "code",
   "execution_count": 76,
   "id": "991a1650-b065-405a-845a-97b292b5d70d",
   "metadata": {},
   "outputs": [],
   "source": [
    "def one_batch(model, batch_size, n_test_rounds=0):\n",
    "    y_target_list = np.zeros((batch_size, 8))\n",
    "    state_list = np.array([make_state() for i in np.arange(batch_size)])\n",
    "    prob_list = model(np.array(state_list)).numpy()\n",
    "    actions = np.array([np.random.choice(8, p=prob) for prob in prob_list])\n",
    "    values = np.array([run(state, action) for state, action in zip(state_list, actions)])\n",
    "    mean, std = np.mean(values), np.std(values)\n",
    "    values = values / std\n",
    "    for i in np.arange(batch_size):\n",
    "        y_target_list[i, actions[i]] = values[i]\n",
    "    model.fit(state_list, y_target_list, verbose = 0)\n",
    "    if n_test_rounds > 0:\n",
    "        return test_model(model, n_test_rounds)\n"
   ]
  },
  {
   "cell_type": "code",
   "execution_count": 77,
   "id": "c2c2367b-1f69-4375-9ee4-1ea2ec2dd9b3",
   "metadata": {},
   "outputs": [],
   "source": [
    "UNIFORM_LOW, UNIFORM_HIGH = 5.0, 10.0"
   ]
  },
  {
   "cell_type": "code",
   "execution_count": 78,
   "id": "13d9b66a-9e09-4864-b1b0-2b96d49d06e4",
   "metadata": {},
   "outputs": [],
   "source": [
    "model = create_model(n_hidden_layers=1, n_dense_units=512, ratio_dropout=0.5, optimizer='adam')"
   ]
  },
  {
   "cell_type": "code",
   "execution_count": 79,
   "id": "1148633c-ddb2-4443-a7ed-598951bf6029",
   "metadata": {
    "scrolled": true
   },
   "outputs": [
    {
     "data": {
      "text/plain": [
       "(np.int64(25),\n",
       " np.float64(9.92929386952984),\n",
       " np.float64(5.078171729283151),\n",
       " np.float64(0.2092))"
      ]
     },
     "execution_count": 79,
     "metadata": {},
     "output_type": "execute_result"
    }
   ],
   "source": [
    "best_idx, best_score, best_weights = train(model, 200, verbose = 0)\n",
    "best_model = clone_model(model)\n",
    "best_model.set_weights(best_weights)\n",
    "best_idx, *test_model(best_model, 10000)"
   ]
  },
  {
   "cell_type": "code",
   "execution_count": null,
   "id": "373bff20-b134-4b89-82c5-d77441e7d998",
   "metadata": {},
   "outputs": [],
   "source": []
  },
  {
   "cell_type": "markdown",
   "id": "a88a7989-5552-40f2-8487-47b45914375b",
   "metadata": {},
   "source": [
    "## 奖励归一化-不除以标准差"
   ]
  },
  {
   "cell_type": "code",
   "execution_count": 81,
   "id": "9ac35a27-109a-4fff-bd5a-10bbfcd3d37b",
   "metadata": {},
   "outputs": [],
   "source": [
    "def one_batch(model, batch_size, n_test_rounds=0):\n",
    "    y_target_list = np.zeros((batch_size, 8))\n",
    "    state_list = np.array([make_state() for i in np.arange(batch_size)])\n",
    "    prob_list = model(np.array(state_list)).numpy()\n",
    "    actions = np.array([np.random.choice(8, p=prob) for prob in prob_list])\n",
    "    values = np.array([run(state, action) for state, action in zip(state_list, actions)])\n",
    "    mean, std = np.mean(values), np.std(values)\n",
    "    values = values - mean\n",
    "    for i in np.arange(batch_size):\n",
    "        y_target_list[i, actions[i]] = values[i]\n",
    "    model.fit(state_list, y_target_list, verbose = 0)\n",
    "    if n_test_rounds > 0:\n",
    "        return test_model(model, n_test_rounds)\n"
   ]
  },
  {
   "cell_type": "code",
   "execution_count": 82,
   "id": "dcd1a958-566e-4fb9-ab73-8a9c8d305d27",
   "metadata": {},
   "outputs": [],
   "source": [
    "UNIFORM_LOW, UNIFORM_HIGH = 5.0, 10.0"
   ]
  },
  {
   "cell_type": "code",
   "execution_count": 83,
   "id": "ca4f3643-f53e-40f2-92c7-7276b8a993fd",
   "metadata": {},
   "outputs": [],
   "source": [
    "model = create_model(n_hidden_layers=1, n_dense_units=512, ratio_dropout=0.5, optimizer='adam')"
   ]
  },
  {
   "cell_type": "code",
   "execution_count": 84,
   "id": "35f70ea5-0536-4732-98d6-c081621a9b0f",
   "metadata": {
    "scrolled": true
   },
   "outputs": [
    {
     "data": {
      "text/plain": [
       "(np.int64(150),\n",
       " np.float64(11.112288744503003),\n",
       " np.float64(5.462234826955575),\n",
       " np.float64(0.3508))"
      ]
     },
     "execution_count": 84,
     "metadata": {},
     "output_type": "execute_result"
    }
   ],
   "source": [
    "best_idx, best_score, best_weights = train(model, 200, verbose = 0)\n",
    "best_model = clone_model(model)\n",
    "best_model.set_weights(best_weights)\n",
    "best_idx, *test_model(best_model, 10000)"
   ]
  },
  {
   "cell_type": "code",
   "execution_count": null,
   "id": "93346f62-2403-414b-8ffa-248852f9dce5",
   "metadata": {},
   "outputs": [],
   "source": []
  },
  {
   "cell_type": "markdown",
   "id": "d7dffe29-a4d8-4a3d-a7f0-305b4124c037",
   "metadata": {},
   "source": [
    "# 用test_model 返回值做normalization"
   ]
  },
  {
   "cell_type": "code",
   "execution_count": null,
   "id": "3395a42b-1003-41ea-b03f-172bd61414d0",
   "metadata": {},
   "outputs": [],
   "source": []
  },
  {
   "cell_type": "code",
   "execution_count": null,
   "id": "32afd999-b4c6-4bd0-9ffb-759c2b35c988",
   "metadata": {},
   "outputs": [],
   "source": []
  },
  {
   "cell_type": "code",
   "execution_count": null,
   "id": "fc2da8b7-7100-4028-a8a2-4add14065bae",
   "metadata": {},
   "outputs": [],
   "source": []
  },
  {
   "cell_type": "markdown",
   "id": "28c106fd-5b4e-4047-b85c-384ed819ef2f",
   "metadata": {},
   "source": [
    "# 结论\n",
    "\n",
    "以下行为理论上不会影响模型表现，但实际上会\n",
    "\n",
    "* 修改初始化时格子中随机数的取值区间\n",
    "* 在获得的奖励上减去常数\n",
    "* 在获得的奖励上乘以常数\n",
    "\n",
    "所以，是否存在某个理想的适于模型学习的 G_t 的分布？似乎对奖励作 normalization 效果较好。\n",
    "\n",
    "怎么结合 normalization 和 baseline 呢？"
   ]
  },
  {
   "cell_type": "code",
   "execution_count": null,
   "id": "fbe0d458-5467-4d09-8452-63922ffe8c7a",
   "metadata": {},
   "outputs": [],
   "source": []
  },
  {
   "cell_type": "code",
   "execution_count": 57,
   "id": "5acb490a-6c19-4e2d-bcc6-32b7525be13f",
   "metadata": {},
   "outputs": [],
   "source": [
    "tmp = np.array([[1,2,3],[4,5,6]])"
   ]
  },
  {
   "cell_type": "code",
   "execution_count": 60,
   "id": "fd6e3fe0-c5f1-4880-86e8-d4db3093a4a3",
   "metadata": {},
   "outputs": [],
   "source": [
    "tmp[[0,1], [1,2]] = [9,9]"
   ]
  },
  {
   "cell_type": "code",
   "execution_count": 61,
   "id": "09977983-769e-4b60-9bbe-c84be8c7b096",
   "metadata": {},
   "outputs": [
    {
     "data": {
      "text/plain": [
       "array([[1, 9, 9],\n",
       "       [4, 9, 9]])"
      ]
     },
     "execution_count": 61,
     "metadata": {},
     "output_type": "execute_result"
    }
   ],
   "source": [
    "tmp"
   ]
  },
  {
   "cell_type": "code",
   "execution_count": null,
   "id": "761c61db-3b1f-4a90-b0fa-df703846047f",
   "metadata": {},
   "outputs": [],
   "source": []
  },
  {
   "cell_type": "code",
   "execution_count": 67,
   "id": "aa7ca00e-2eaa-47af-bad3-25c1874ef987",
   "metadata": {},
   "outputs": [
    {
     "data": {
      "text/plain": [
       "(1, 2, 3, 4)"
      ]
     },
     "execution_count": 67,
     "metadata": {},
     "output_type": "execute_result"
    }
   ],
   "source": [
    "1, *(2,3,4)"
   ]
  },
  {
   "cell_type": "code",
   "execution_count": null,
   "id": "1ad0ba7d-e94f-4e19-a05d-00d766de1132",
   "metadata": {},
   "outputs": [],
   "source": []
  }
 ],
 "metadata": {
  "kernelspec": {
   "display_name": "Python 3 (ipykernel)",
   "language": "python",
   "name": "python3"
  },
  "language_info": {
   "codemirror_mode": {
    "name": "ipython",
    "version": 3
   },
   "file_extension": ".py",
   "mimetype": "text/x-python",
   "name": "python",
   "nbconvert_exporter": "python",
   "pygments_lexer": "ipython3",
   "version": "3.9.13"
  }
 },
 "nbformat": 4,
 "nbformat_minor": 5
}
