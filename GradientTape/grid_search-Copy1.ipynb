{
 "cells": [
  {
   "cell_type": "code",
   "execution_count": 1,
   "id": "424fc8e6-e309-4608-b270-a4fd7161eaaf",
   "metadata": {},
   "outputs": [],
   "source": [
    "import numpy as np\n",
    "import tensorflow as tf\n",
    "from tensorflow import keras\n",
    "from tensorflow.keras.layers import Input, Dense, BatchNormalization, ReLU, Dropout\n",
    "from tensorflow.keras.models import Model\n",
    "from itertools import product\n",
    "\n",
    "import functions as fs\n",
    "from functions import make_states, run, get_optimal_action_and_value, get_optimal_actions_and_values, get_model_actions\n",
    "from functions import test_model, one_batch, train, create_model"
   ]
  },
  {
   "cell_type": "markdown",
   "id": "66ccc071-42da-41b2-b9ca-44d190836c03",
   "metadata": {},
   "source": [
    "## 测试hyperparameters"
   ]
  },
  {
   "cell_type": "code",
   "execution_count": null,
   "id": "b386bfa4-1051-4061-97c1-49b3c578f4cf",
   "metadata": {},
   "outputs": [],
   "source": []
  },
  {
   "cell_type": "code",
   "execution_count": 3,
   "id": "74fe806e-7834-46b4-bda2-d3e32d92bda0",
   "metadata": {},
   "outputs": [
    {
     "name": "stdout",
     "output_type": "stream",
     "text": [
      "1 64 0.2 3999 0.8703191486092724\n",
      "1 64 0.5 3899 0.875476568907284\n",
      "1 128 0.2 3799 0.8973458363670241\n",
      "1 128 0.5 3099 0.881115672872699\n",
      "1 256 0.2 3799 0.903659705650605\n",
      "1 256 0.5 3499 0.8696052256539267\n",
      "1 512 0.2 3399 0.9040821994589489\n",
      "1 512 0.5 2499 0.9056131095242516\n",
      "2 64 0.2 3399 0.8678279148617852\n",
      "2 64 0.5 2899 0.9044272293911209\n",
      "2 128 0.2 2899 0.907577029999544\n",
      "2 128 0.5 3899 0.9108646380076836\n",
      "2 256 0.2 3499 0.913355919540477\n",
      "2 256 0.5 3699 0.9168570744893719\n",
      "2 512 0.2 3499 0.9197532559040894\n",
      "2 512 0.5 3899 0.8985650978842729\n"
     ]
    }
   ],
   "source": [
    "for n_hidden_layers in [2, 3]:\n",
    "    for n_dense_units in [64, 128, 256, 512]:\n",
    "        for ratio_dropout in [0.2, 0.5]:\n",
    "            model = create_model(n_hidden_layers, n_dense_units, ratio_dropout)\n",
    "            optimizer = tf.keras.optimizers.Adam(learning_rate=0.001) \n",
    "            best_idx, best_score, _ = train(one_batch, optimizer, model, max_batch=4000, batch_size=128, test_lapse=100, n_test_rounds=10000, verbose = 0)\n",
    "            print(n_hidden_layers, n_dense_units, ratio_dropout, best_idx, best_score)"
   ]
  },
  {
   "cell_type": "code",
   "execution_count": 4,
   "id": "6dc5d847-e9cd-4925-9953-ad01135a2a8a",
   "metadata": {},
   "outputs": [
    {
     "name": "stdout",
     "output_type": "stream",
     "text": [
      "3 64 0.2 3999 0.8822075493464158\n",
      "3 128 0.2 3199 0.9110245433479791\n",
      "3 256 0.2 3199 0.9228596595126026\n",
      "3 512 0.2 3799 0.9219508349900488\n",
      "4 64 0.2 3999 0.8986716454977631\n",
      "4 128 0.2 3799 0.9145620640548597\n",
      "4 256 0.2 3999 0.9126074867198797\n",
      "4 512 0.2 3799 0.9004589455291588\n"
     ]
    }
   ],
   "source": [
    "for n_hidden_layers in [3, 4]:\n",
    "    for n_dense_units in [64, 128, 256, 512]:\n",
    "        for ratio_dropout in [0.2]:\n",
    "            model = create_model(n_hidden_layers, n_dense_units, ratio_dropout)\n",
    "            optimizer = tf.keras.optimizers.Adam(learning_rate=0.001) \n",
    "            best_idx, best_score, _ = train(one_batch, optimizer, model, max_batch=4000, batch_size=128, test_lapse=100, n_test_rounds=10000, verbose = 0)\n",
    "            print(n_hidden_layers, n_dense_units, ratio_dropout, best_idx, best_score)"
   ]
  },
  {
   "cell_type": "code",
   "execution_count": null,
   "id": "fd6e3fe0-c5f1-4880-86e8-d4db3093a4a3",
   "metadata": {},
   "outputs": [],
   "source": []
  }
 ],
 "metadata": {
  "kernelspec": {
   "display_name": "Python 3 (ipykernel)",
   "language": "python",
   "name": "python3"
  },
  "language_info": {
   "codemirror_mode": {
    "name": "ipython",
    "version": 3
   },
   "file_extension": ".py",
   "mimetype": "text/x-python",
   "name": "python",
   "nbconvert_exporter": "python",
   "pygments_lexer": "ipython3",
   "version": "3.9.13"
  }
 },
 "nbformat": 4,
 "nbformat_minor": 5
}
