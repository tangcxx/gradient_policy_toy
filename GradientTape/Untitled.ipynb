{
 "cells": [
  {
   "cell_type": "code",
   "execution_count": 11,
   "id": "600eebb5-13ad-453a-a5d1-84f050adbe3e",
   "metadata": {},
   "outputs": [],
   "source": [
    "import numpy as np\n",
    "import tensorflow as tf\n",
    "from tensorflow import keras\n",
    "from tensorflow.keras.layers import Input, Dense, BatchNormalization, ReLU, Dropout\n",
    "from tensorflow.keras.models import Model, clone_model\n",
    "from itertools import product\n",
    "\n",
    "def make_states(n):\n",
    "    states = np.zeros((n,8))\n",
    "    for i in np.arange(n):\n",
    "        idx = np.random.choice(8, size=3, replace=False)\n",
    "        states[i, idx] = np.random.uniform(0.0, 1.0, size=3)\n",
    "    return states\n",
    "    \n",
    "def run(state, action):\n",
    "    if state[action] != 0:\n",
    "        return state[action]\n",
    "    else:\n",
    "        before, after = state[(action - 1) % 8], state[(action + 1) % 8]\n",
    "        if before != 0 and after != 0:\n",
    "            return before + after\n",
    "        else:\n",
    "            return 0\n",
    "\n",
    "def get_optimal_action_and_value(state):\n",
    "    values = np.array([run(state, action) for action in np.arange(8)])\n",
    "    optimal_action = values.argmax()\n",
    "    return optimal_action, values[optimal_action]\n",
    "\n",
    "def get_optimal_actions_and_values(state_list):\n",
    "    res = [get_optimal_action_and_value(state) for state in state_list]\n",
    "    actions = np.array([pairs[0] for pairs in res])\n",
    "    values = np.array([pairs[1] for pairs in res])\n",
    "    return actions, values\n",
    "    \n",
    "def get_optimal_statics(n_rounds):\n",
    "    state_list = make_states(n_rounds)\n",
    "    _, values = get_optimal_actions_and_values(state_list)\n",
    "    return np.mean(values), np.std(values)\n",
    "\n",
    "def get_random_policy_statics(n_rounds):\n",
    "    values = [run(state, np.random.choice(8)) for state in make_states(n_rounds)]\n",
    "    return np.mean(values), np.std(values)\n",
    "\n",
    "def get_model_actions(model, state_list):\n",
    "    return model(np.array(state_list)).numpy().argmax(axis = 1)\n",
    "\n",
    "def test_model(model, n_test_rounds):\n",
    "    state_list = make_states(n_test_rounds)\n",
    "    actions = get_model_actions(model, state_list)\n",
    "    values = [run(state, action) for state, action in zip(state_list, actions)]\n",
    "    optimal_actions, _ = get_optimal_actions_and_values(state_list)\n",
    "    accuracy = np.mean(actions == optimal_actions)\n",
    "    return np.mean(values), np.std(values), accuracy\n",
    "\n",
    "def one_batch(model, optimizer, batch_size=128):\n",
    "    states = make_states(batch_size)\n",
    "    _, optimal_values = get_optimal_actions_and_values(states)\n",
    "    with tf.GradientTape() as tape:\n",
    "        probs = model(states)\n",
    "\n",
    "        actions = np.array([np.random.choice(8, p=prob) for prob in probs.numpy()])\n",
    "        rewards = np.array([run(state, action) for state, action in zip(states, actions)])\n",
    "        rewards = rewards - optimal_values\n",
    "        rewards = (rewards - np.mean(rewards)) / (np.std(rewards) + 1e-8)\n",
    "\n",
    "        action_probs = tf.gather_nd(probs, [[i, a] for i, a in enumerate(actions)])\n",
    "        log_probs = tf.math.log(action_probs)\n",
    "        loss = -tf.reduce_mean(log_probs * rewards)\n",
    "    \n",
    "    gradients = tape.gradient(loss, model.trainable_variables)\n",
    "    optimizer.apply_gradients(zip(gradients, model.trainable_variables))\n",
    "\n",
    "# def one_batch_supervised(model, batch_size, n_test_rounds=0):\n",
    "#     state_list = make_states(batch_size)\n",
    "#     y_target_list = np.zeros((batch_size, 8))\n",
    "#     optimal_actions, _ = get_optimal_actions_and_values(state_list)\n",
    "#     for i in np.arange(batch_size):\n",
    "#         y_target_list[i, optimal_actions[i]] = 1\n",
    "#     model.fit(np.array(state_list), np.array(y_target_list), verbose=0)\n",
    "#     if n_test_rounds > 0:\n",
    "#         return test_model(model, n_test_rounds)\n",
    "\n",
    "def train(model, optimizer, one_batch, max_batch=200, batch_size=32, test_lapse = 10, n_test_rounds=10000, verbose = 0):\n",
    "    best_weights = []\n",
    "    best_idx = 0\n",
    "    best_score = 0\n",
    "    for i in np.arange(max_batch):\n",
    "        one_batch(model, optimizer, batch_size)\n",
    "        if (i+1) % test_lapse == 0 or i + 1 == max_batch:\n",
    "            score, _, accuracy = test_model(model, n_test_rounds)\n",
    "            if best_score < score:\n",
    "                best_score = score\n",
    "                best_idx = i\n",
    "                best_weights = model.get_weights()\n",
    "            if verbose == 1:\n",
    "                print(i+1, score, accuracy)\n",
    "    return best_idx, best_score, best_weights\n",
    "\n",
    "# def train_supervised(one_batch_supervised, model, max_batch=200, batch_size=128, n_test_rounds=10000, verbose = 0):\n",
    "#     best_weights = []\n",
    "#     best_idx = 0\n",
    "#     best_score = 0\n",
    "#     for i in np.arange(max_batch):\n",
    "#         score, std, accuracy = one_batch_supervised(model, batch_size, n_test_rounds)\n",
    "#         if best_score < score:\n",
    "#             best_score = score\n",
    "#             best_idx = i\n",
    "#             best_weights = model.get_weights()\n",
    "#         if verbose == 1:\n",
    "#             print(i, score, accuracy)\n",
    "#     return best_idx, best_score, best_weights\n",
    "\n",
    "\n",
    "def create_model(n_hidden_layers, n_dense_units, ratio_dropout):\n",
    "    input_shape = (8,) \n",
    "    inputs = Input(shape=input_shape)\n",
    "\n",
    "    x = inputs\n",
    "    for i in np.arange(n_hidden_layers):\n",
    "        x = Dense(n_dense_units)(x) \n",
    "        x = BatchNormalization()(x)\n",
    "        x = ReLU()(x)\n",
    "        x = Dropout(ratio_dropout)(x)\n",
    "    \n",
    "    outputs = Dense(8, activation='softmax')(x)\n",
    "    model = Model(inputs, outputs)\n",
    "    return model\n"
   ]
  },
  {
   "cell_type": "markdown",
   "id": "25975bb0-d34e-4f59-8acc-e906eb00d580",
   "metadata": {},
   "source": [
    "# 试验场"
   ]
  },
  {
   "cell_type": "code",
   "execution_count": 12,
   "id": "2862ac94-213d-4e2a-be26-202c9d5d6952",
   "metadata": {},
   "outputs": [],
   "source": [
    "model = create_model(n_hidden_layers=2, n_dense_units=512, ratio_dropout=0.5)\n",
    "optimizer = tf.optimizers.Adam(0.001)"
   ]
  },
  {
   "cell_type": "code",
   "execution_count": 13,
   "id": "c350bd48-8117-454d-a287-72f7397b768f",
   "metadata": {
    "scrolled": true
   },
   "outputs": [
    {
     "name": "stdout",
     "output_type": "stream",
     "text": [
      "100 0.7276345527966676 0.4018\n",
      "200 0.7911470032968214 0.5035\n",
      "300 0.8103553989961112 0.5408\n",
      "400 0.8009515855604905 0.5304\n",
      "500 0.8333228817961957 0.5727\n",
      "600 0.8356970170070003 0.6025\n",
      "700 0.8463818129769335 0.6202\n",
      "800 0.8416413510755975 0.6159\n",
      "900 0.8569093292938236 0.6528\n",
      "1000 0.8616178567598625 0.6643\n",
      "1100 0.8702505438347953 0.6788\n",
      "1200 0.8679873873734052 0.6949\n",
      "1300 0.8659297938542931 0.6809\n",
      "1400 0.8696715835212111 0.7\n",
      "1500 0.877057048602939 0.6983\n",
      "1600 0.8875521754110081 0.7377\n",
      "1700 0.8842725854823451 0.7284\n",
      "1800 0.8809257462717529 0.7288\n",
      "1900 0.8876177776934504 0.7485\n",
      "2000 0.8864925948571823 0.7549\n",
      "2100 0.8878385319938729 0.7612\n",
      "2200 0.8912983265267219 0.7687\n",
      "2300 0.8950987120801795 0.7668\n",
      "2400 0.8929729204855655 0.7767\n",
      "2500 0.8920962908107003 0.7787\n",
      "2600 0.8941713616571216 0.7824\n",
      "2700 0.897787475585905 0.7906\n",
      "2800 0.8942291909535354 0.8076\n",
      "2900 0.8946862497830752 0.7898\n",
      "3000 0.9021817937038088 0.7976\n",
      "3100 0.8972236849215762 0.7973\n",
      "3200 0.8996050898433937 0.7957\n",
      "3300 0.8991228229633343 0.7874\n",
      "3400 0.9011044127885857 0.8064\n",
      "3500 0.8982218186298662 0.8028\n",
      "3600 0.8983367877592522 0.8037\n",
      "3700 0.8955296416505111 0.8133\n",
      "3800 0.8952117401240325 0.8138\n",
      "3900 0.9006868871695518 0.8204\n",
      "4000 0.8989618360265352 0.8194\n"
     ]
    }
   ],
   "source": [
    "_ = train(model, optimizer, one_batch, max_batch=4000, batch_size=32, test_lapse = 100, n_test_rounds=10000, verbose = 1)"
   ]
  },
  {
   "cell_type": "code",
   "execution_count": null,
   "id": "32d8be6d-b45a-48dd-b793-d6076931bbca",
   "metadata": {},
   "outputs": [],
   "source": []
  },
  {
   "cell_type": "code",
   "execution_count": null,
   "id": "863c48a5-326c-415e-bb29-6bc09ad10bc6",
   "metadata": {},
   "outputs": [],
   "source": []
  },
  {
   "cell_type": "code",
   "execution_count": 14,
   "id": "c721b227-fdeb-45fc-9709-42fc68b0bfe3",
   "metadata": {},
   "outputs": [],
   "source": [
    "model = create_model(n_hidden_layers=2, n_dense_units=512, ratio_dropout=0.5)\n",
    "optimizer = tf.optimizers.Adam(0.001)"
   ]
  },
  {
   "cell_type": "code",
   "execution_count": 15,
   "id": "8c67f9d3-a936-4082-90dd-2f6d0bfd8499",
   "metadata": {
    "scrolled": true
   },
   "outputs": [
    {
     "name": "stdout",
     "output_type": "stream",
     "text": [
      "100 0.7519761029120887 0.4495\n",
      "200 0.7893834719638262 0.5072\n",
      "300 0.770999194918169 0.493\n",
      "400 0.8066423764295776 0.5373\n",
      "500 0.8136409161946815 0.5477\n",
      "600 0.8036562079020012 0.566\n",
      "700 0.8133766695459149 0.5891\n",
      "800 0.8269362472087445 0.605\n",
      "900 0.8325083844230161 0.607\n",
      "1000 0.8218106473622429 0.6155\n",
      "1100 0.8405433140028657 0.6203\n",
      "1200 0.8210023132825274 0.5905\n",
      "1300 0.837978421127829 0.622\n",
      "1400 0.836082188424272 0.6367\n",
      "1500 0.8416896395554911 0.629\n",
      "1600 0.8452002162095439 0.6331\n",
      "1700 0.8530886080349859 0.6729\n",
      "1800 0.8637111266252657 0.6798\n",
      "1900 0.8757167145337685 0.7153\n",
      "2000 0.8839556967013963 0.7475\n",
      "2100 0.8858641747309018 0.7431\n",
      "2200 0.8655369692747167 0.7181\n",
      "2300 0.8803766616628625 0.7528\n",
      "2400 0.8871997306188294 0.7598\n",
      "2500 0.8892972232710042 0.7677\n",
      "2600 0.8784200908225263 0.7615\n",
      "2700 0.8970306149585212 0.7888\n",
      "2800 0.8954664887206687 0.7809\n",
      "2900 0.8965240239212042 0.801\n",
      "3000 0.8983178255503078 0.8118\n",
      "3100 0.8982577881825772 0.7987\n",
      "3200 0.8988590060961722 0.8102\n",
      "3300 0.8935823004925196 0.8012\n",
      "3400 0.8975045394539726 0.8083\n",
      "3500 0.8997660329013395 0.8005\n",
      "3600 0.906339594194161 0.8267\n",
      "3700 0.8975828108082735 0.7898\n",
      "3800 0.9031923298176012 0.8101\n",
      "3900 0.8945946674814158 0.7881\n",
      "4000 0.903133378088968 0.8202\n"
     ]
    }
   ],
   "source": [
    "_ = train(model, optimizer, one_batch, max_batch=4000, batch_size=32, test_lapse = 100, n_test_rounds=10000, verbose = 1)"
   ]
  },
  {
   "cell_type": "code",
   "execution_count": null,
   "id": "49f03543-5f74-48f1-900b-81482dc614f6",
   "metadata": {},
   "outputs": [],
   "source": []
  },
  {
   "cell_type": "code",
   "execution_count": 16,
   "id": "5b808100-545c-42aa-875f-97f16a36d272",
   "metadata": {},
   "outputs": [],
   "source": [
    "model = create_model(n_hidden_layers=2, n_dense_units=512, ratio_dropout=0.5)\n",
    "optimizer = tf.optimizers.Adam(0.001)"
   ]
  },
  {
   "cell_type": "code",
   "execution_count": 17,
   "id": "6838d863-8b28-48d0-bdb6-bbff77e64a3e",
   "metadata": {
    "scrolled": true
   },
   "outputs": [
    {
     "name": "stdout",
     "output_type": "stream",
     "text": [
      "100 0.7255646257827664 0.4119\n",
      "200 0.7687264791295916 0.4731\n",
      "300 0.7768829942141884 0.4899\n",
      "400 0.7848172653647887 0.5084\n",
      "500 0.8010280137758524 0.5398\n",
      "600 0.8143450219580173 0.5719\n",
      "700 0.8135036067952068 0.5838\n",
      "800 0.7989495996596852 0.5366\n",
      "900 0.8191677695701768 0.5853\n",
      "1000 0.8236937464904062 0.5969\n",
      "1100 0.8424128181006918 0.6252\n",
      "1200 0.8490940668078644 0.6449\n",
      "1300 0.8650191516273419 0.7016\n",
      "1400 0.8602154450232938 0.6764\n",
      "1500 0.8652006613292702 0.6727\n",
      "1600 0.8715325069354456 0.6949\n",
      "1700 0.8654420301942349 0.7181\n",
      "1800 0.8912190722023204 0.7516\n",
      "1900 0.887906675435571 0.7643\n",
      "2000 0.8921933270906611 0.763\n",
      "2100 0.8963376218472189 0.7741\n",
      "2200 0.8942250907387866 0.7911\n",
      "2300 0.8893091081893015 0.7692\n",
      "2400 0.8920781043103543 0.7692\n",
      "2500 0.892379203092595 0.7801\n",
      "2600 0.9020895272165191 0.8089\n",
      "2700 0.8921508195139771 0.7891\n",
      "2800 0.9014301409277927 0.7979\n",
      "2900 0.8962258664775614 0.8049\n",
      "3000 0.9003873941851882 0.7741\n",
      "3100 0.8939416459050066 0.784\n",
      "3200 0.8976175655979222 0.81\n",
      "3300 0.898892305229114 0.7923\n",
      "3400 0.8976964809079855 0.8005\n",
      "3500 0.8980377737949672 0.7927\n",
      "3600 0.9007849634703291 0.8304\n",
      "3700 0.893610181973207 0.7942\n",
      "3800 0.9062587667737986 0.8076\n",
      "3900 0.9031806449165213 0.8063\n",
      "4000 0.8958839354139263 0.8001\n"
     ]
    }
   ],
   "source": [
    "_ = train(model, optimizer, one_batch, max_batch=4000, batch_size=32, test_lapse = 100, n_test_rounds=10000, verbose = 1)"
   ]
  },
  {
   "cell_type": "code",
   "execution_count": null,
   "id": "8c8a3c3c-8c29-42ec-81c8-fdb574b6835a",
   "metadata": {},
   "outputs": [],
   "source": []
  },
  {
   "cell_type": "code",
   "execution_count": 21,
   "id": "0c520a38-1a98-4311-a478-57735970424b",
   "metadata": {},
   "outputs": [
    {
     "data": {
      "text/html": [
       "<pre style=\"white-space:pre;overflow-x:auto;line-height:normal;font-family:Menlo,'DejaVu Sans Mono',consolas,'Courier New',monospace\"><span style=\"font-weight: bold\">Model: \"functional_7\"</span>\n",
       "</pre>\n"
      ],
      "text/plain": [
       "\u001b[1mModel: \"functional_7\"\u001b[0m\n"
      ]
     },
     "metadata": {},
     "output_type": "display_data"
    },
    {
     "data": {
      "text/html": [
       "<pre style=\"white-space:pre;overflow-x:auto;line-height:normal;font-family:Menlo,'DejaVu Sans Mono',consolas,'Courier New',monospace\">┏━━━━━━━━━━━━━━━━━━━━━━━━━━━━━━━━━━━━━━┳━━━━━━━━━━━━━━━━━━━━━━━━━━━━━┳━━━━━━━━━━━━━━━━━┓\n",
       "┃<span style=\"font-weight: bold\"> Layer (type)                         </span>┃<span style=\"font-weight: bold\"> Output Shape                </span>┃<span style=\"font-weight: bold\">         Param # </span>┃\n",
       "┡━━━━━━━━━━━━━━━━━━━━━━━━━━━━━━━━━━━━━━╇━━━━━━━━━━━━━━━━━━━━━━━━━━━━━╇━━━━━━━━━━━━━━━━━┩\n",
       "│ input_layer_7 (<span style=\"color: #0087ff; text-decoration-color: #0087ff\">InputLayer</span>)           │ (<span style=\"color: #00d7ff; text-decoration-color: #00d7ff\">None</span>, <span style=\"color: #00af00; text-decoration-color: #00af00\">8</span>)                   │               <span style=\"color: #00af00; text-decoration-color: #00af00\">0</span> │\n",
       "├──────────────────────────────────────┼─────────────────────────────┼─────────────────┤\n",
       "│ dense_22 (<span style=\"color: #0087ff; text-decoration-color: #0087ff\">Dense</span>)                     │ (<span style=\"color: #00d7ff; text-decoration-color: #00d7ff\">None</span>, <span style=\"color: #00af00; text-decoration-color: #00af00\">64</span>)                  │             <span style=\"color: #00af00; text-decoration-color: #00af00\">576</span> │\n",
       "├──────────────────────────────────────┼─────────────────────────────┼─────────────────┤\n",
       "│ batch_normalization_15               │ (<span style=\"color: #00d7ff; text-decoration-color: #00d7ff\">None</span>, <span style=\"color: #00af00; text-decoration-color: #00af00\">64</span>)                  │             <span style=\"color: #00af00; text-decoration-color: #00af00\">256</span> │\n",
       "│ (<span style=\"color: #0087ff; text-decoration-color: #0087ff\">BatchNormalization</span>)                 │                             │                 │\n",
       "├──────────────────────────────────────┼─────────────────────────────┼─────────────────┤\n",
       "│ re_lu_15 (<span style=\"color: #0087ff; text-decoration-color: #0087ff\">ReLU</span>)                      │ (<span style=\"color: #00d7ff; text-decoration-color: #00d7ff\">None</span>, <span style=\"color: #00af00; text-decoration-color: #00af00\">64</span>)                  │               <span style=\"color: #00af00; text-decoration-color: #00af00\">0</span> │\n",
       "├──────────────────────────────────────┼─────────────────────────────┼─────────────────┤\n",
       "│ dropout_15 (<span style=\"color: #0087ff; text-decoration-color: #0087ff\">Dropout</span>)                 │ (<span style=\"color: #00d7ff; text-decoration-color: #00d7ff\">None</span>, <span style=\"color: #00af00; text-decoration-color: #00af00\">64</span>)                  │               <span style=\"color: #00af00; text-decoration-color: #00af00\">0</span> │\n",
       "├──────────────────────────────────────┼─────────────────────────────┼─────────────────┤\n",
       "│ dense_23 (<span style=\"color: #0087ff; text-decoration-color: #0087ff\">Dense</span>)                     │ (<span style=\"color: #00d7ff; text-decoration-color: #00d7ff\">None</span>, <span style=\"color: #00af00; text-decoration-color: #00af00\">64</span>)                  │           <span style=\"color: #00af00; text-decoration-color: #00af00\">4,160</span> │\n",
       "├──────────────────────────────────────┼─────────────────────────────┼─────────────────┤\n",
       "│ batch_normalization_16               │ (<span style=\"color: #00d7ff; text-decoration-color: #00d7ff\">None</span>, <span style=\"color: #00af00; text-decoration-color: #00af00\">64</span>)                  │             <span style=\"color: #00af00; text-decoration-color: #00af00\">256</span> │\n",
       "│ (<span style=\"color: #0087ff; text-decoration-color: #0087ff\">BatchNormalization</span>)                 │                             │                 │\n",
       "├──────────────────────────────────────┼─────────────────────────────┼─────────────────┤\n",
       "│ re_lu_16 (<span style=\"color: #0087ff; text-decoration-color: #0087ff\">ReLU</span>)                      │ (<span style=\"color: #00d7ff; text-decoration-color: #00d7ff\">None</span>, <span style=\"color: #00af00; text-decoration-color: #00af00\">64</span>)                  │               <span style=\"color: #00af00; text-decoration-color: #00af00\">0</span> │\n",
       "├──────────────────────────────────────┼─────────────────────────────┼─────────────────┤\n",
       "│ dropout_16 (<span style=\"color: #0087ff; text-decoration-color: #0087ff\">Dropout</span>)                 │ (<span style=\"color: #00d7ff; text-decoration-color: #00d7ff\">None</span>, <span style=\"color: #00af00; text-decoration-color: #00af00\">64</span>)                  │               <span style=\"color: #00af00; text-decoration-color: #00af00\">0</span> │\n",
       "├──────────────────────────────────────┼─────────────────────────────┼─────────────────┤\n",
       "│ dense_24 (<span style=\"color: #0087ff; text-decoration-color: #0087ff\">Dense</span>)                     │ (<span style=\"color: #00d7ff; text-decoration-color: #00d7ff\">None</span>, <span style=\"color: #00af00; text-decoration-color: #00af00\">64</span>)                  │           <span style=\"color: #00af00; text-decoration-color: #00af00\">4,160</span> │\n",
       "├──────────────────────────────────────┼─────────────────────────────┼─────────────────┤\n",
       "│ batch_normalization_17               │ (<span style=\"color: #00d7ff; text-decoration-color: #00d7ff\">None</span>, <span style=\"color: #00af00; text-decoration-color: #00af00\">64</span>)                  │             <span style=\"color: #00af00; text-decoration-color: #00af00\">256</span> │\n",
       "│ (<span style=\"color: #0087ff; text-decoration-color: #0087ff\">BatchNormalization</span>)                 │                             │                 │\n",
       "├──────────────────────────────────────┼─────────────────────────────┼─────────────────┤\n",
       "│ re_lu_17 (<span style=\"color: #0087ff; text-decoration-color: #0087ff\">ReLU</span>)                      │ (<span style=\"color: #00d7ff; text-decoration-color: #00d7ff\">None</span>, <span style=\"color: #00af00; text-decoration-color: #00af00\">64</span>)                  │               <span style=\"color: #00af00; text-decoration-color: #00af00\">0</span> │\n",
       "├──────────────────────────────────────┼─────────────────────────────┼─────────────────┤\n",
       "│ dropout_17 (<span style=\"color: #0087ff; text-decoration-color: #0087ff\">Dropout</span>)                 │ (<span style=\"color: #00d7ff; text-decoration-color: #00d7ff\">None</span>, <span style=\"color: #00af00; text-decoration-color: #00af00\">64</span>)                  │               <span style=\"color: #00af00; text-decoration-color: #00af00\">0</span> │\n",
       "├──────────────────────────────────────┼─────────────────────────────┼─────────────────┤\n",
       "│ dense_25 (<span style=\"color: #0087ff; text-decoration-color: #0087ff\">Dense</span>)                     │ (<span style=\"color: #00d7ff; text-decoration-color: #00d7ff\">None</span>, <span style=\"color: #00af00; text-decoration-color: #00af00\">64</span>)                  │           <span style=\"color: #00af00; text-decoration-color: #00af00\">4,160</span> │\n",
       "├──────────────────────────────────────┼─────────────────────────────┼─────────────────┤\n",
       "│ batch_normalization_18               │ (<span style=\"color: #00d7ff; text-decoration-color: #00d7ff\">None</span>, <span style=\"color: #00af00; text-decoration-color: #00af00\">64</span>)                  │             <span style=\"color: #00af00; text-decoration-color: #00af00\">256</span> │\n",
       "│ (<span style=\"color: #0087ff; text-decoration-color: #0087ff\">BatchNormalization</span>)                 │                             │                 │\n",
       "├──────────────────────────────────────┼─────────────────────────────┼─────────────────┤\n",
       "│ re_lu_18 (<span style=\"color: #0087ff; text-decoration-color: #0087ff\">ReLU</span>)                      │ (<span style=\"color: #00d7ff; text-decoration-color: #00d7ff\">None</span>, <span style=\"color: #00af00; text-decoration-color: #00af00\">64</span>)                  │               <span style=\"color: #00af00; text-decoration-color: #00af00\">0</span> │\n",
       "├──────────────────────────────────────┼─────────────────────────────┼─────────────────┤\n",
       "│ dropout_18 (<span style=\"color: #0087ff; text-decoration-color: #0087ff\">Dropout</span>)                 │ (<span style=\"color: #00d7ff; text-decoration-color: #00d7ff\">None</span>, <span style=\"color: #00af00; text-decoration-color: #00af00\">64</span>)                  │               <span style=\"color: #00af00; text-decoration-color: #00af00\">0</span> │\n",
       "├──────────────────────────────────────┼─────────────────────────────┼─────────────────┤\n",
       "│ dense_26 (<span style=\"color: #0087ff; text-decoration-color: #0087ff\">Dense</span>)                     │ (<span style=\"color: #00d7ff; text-decoration-color: #00d7ff\">None</span>, <span style=\"color: #00af00; text-decoration-color: #00af00\">8</span>)                   │             <span style=\"color: #00af00; text-decoration-color: #00af00\">520</span> │\n",
       "└──────────────────────────────────────┴─────────────────────────────┴─────────────────┘\n",
       "</pre>\n"
      ],
      "text/plain": [
       "┏━━━━━━━━━━━━━━━━━━━━━━━━━━━━━━━━━━━━━━┳━━━━━━━━━━━━━━━━━━━━━━━━━━━━━┳━━━━━━━━━━━━━━━━━┓\n",
       "┃\u001b[1m \u001b[0m\u001b[1mLayer (type)                        \u001b[0m\u001b[1m \u001b[0m┃\u001b[1m \u001b[0m\u001b[1mOutput Shape               \u001b[0m\u001b[1m \u001b[0m┃\u001b[1m \u001b[0m\u001b[1m        Param #\u001b[0m\u001b[1m \u001b[0m┃\n",
       "┡━━━━━━━━━━━━━━━━━━━━━━━━━━━━━━━━━━━━━━╇━━━━━━━━━━━━━━━━━━━━━━━━━━━━━╇━━━━━━━━━━━━━━━━━┩\n",
       "│ input_layer_7 (\u001b[38;5;33mInputLayer\u001b[0m)           │ (\u001b[38;5;45mNone\u001b[0m, \u001b[38;5;34m8\u001b[0m)                   │               \u001b[38;5;34m0\u001b[0m │\n",
       "├──────────────────────────────────────┼─────────────────────────────┼─────────────────┤\n",
       "│ dense_22 (\u001b[38;5;33mDense\u001b[0m)                     │ (\u001b[38;5;45mNone\u001b[0m, \u001b[38;5;34m64\u001b[0m)                  │             \u001b[38;5;34m576\u001b[0m │\n",
       "├──────────────────────────────────────┼─────────────────────────────┼─────────────────┤\n",
       "│ batch_normalization_15               │ (\u001b[38;5;45mNone\u001b[0m, \u001b[38;5;34m64\u001b[0m)                  │             \u001b[38;5;34m256\u001b[0m │\n",
       "│ (\u001b[38;5;33mBatchNormalization\u001b[0m)                 │                             │                 │\n",
       "├──────────────────────────────────────┼─────────────────────────────┼─────────────────┤\n",
       "│ re_lu_15 (\u001b[38;5;33mReLU\u001b[0m)                      │ (\u001b[38;5;45mNone\u001b[0m, \u001b[38;5;34m64\u001b[0m)                  │               \u001b[38;5;34m0\u001b[0m │\n",
       "├──────────────────────────────────────┼─────────────────────────────┼─────────────────┤\n",
       "│ dropout_15 (\u001b[38;5;33mDropout\u001b[0m)                 │ (\u001b[38;5;45mNone\u001b[0m, \u001b[38;5;34m64\u001b[0m)                  │               \u001b[38;5;34m0\u001b[0m │\n",
       "├──────────────────────────────────────┼─────────────────────────────┼─────────────────┤\n",
       "│ dense_23 (\u001b[38;5;33mDense\u001b[0m)                     │ (\u001b[38;5;45mNone\u001b[0m, \u001b[38;5;34m64\u001b[0m)                  │           \u001b[38;5;34m4,160\u001b[0m │\n",
       "├──────────────────────────────────────┼─────────────────────────────┼─────────────────┤\n",
       "│ batch_normalization_16               │ (\u001b[38;5;45mNone\u001b[0m, \u001b[38;5;34m64\u001b[0m)                  │             \u001b[38;5;34m256\u001b[0m │\n",
       "│ (\u001b[38;5;33mBatchNormalization\u001b[0m)                 │                             │                 │\n",
       "├──────────────────────────────────────┼─────────────────────────────┼─────────────────┤\n",
       "│ re_lu_16 (\u001b[38;5;33mReLU\u001b[0m)                      │ (\u001b[38;5;45mNone\u001b[0m, \u001b[38;5;34m64\u001b[0m)                  │               \u001b[38;5;34m0\u001b[0m │\n",
       "├──────────────────────────────────────┼─────────────────────────────┼─────────────────┤\n",
       "│ dropout_16 (\u001b[38;5;33mDropout\u001b[0m)                 │ (\u001b[38;5;45mNone\u001b[0m, \u001b[38;5;34m64\u001b[0m)                  │               \u001b[38;5;34m0\u001b[0m │\n",
       "├──────────────────────────────────────┼─────────────────────────────┼─────────────────┤\n",
       "│ dense_24 (\u001b[38;5;33mDense\u001b[0m)                     │ (\u001b[38;5;45mNone\u001b[0m, \u001b[38;5;34m64\u001b[0m)                  │           \u001b[38;5;34m4,160\u001b[0m │\n",
       "├──────────────────────────────────────┼─────────────────────────────┼─────────────────┤\n",
       "│ batch_normalization_17               │ (\u001b[38;5;45mNone\u001b[0m, \u001b[38;5;34m64\u001b[0m)                  │             \u001b[38;5;34m256\u001b[0m │\n",
       "│ (\u001b[38;5;33mBatchNormalization\u001b[0m)                 │                             │                 │\n",
       "├──────────────────────────────────────┼─────────────────────────────┼─────────────────┤\n",
       "│ re_lu_17 (\u001b[38;5;33mReLU\u001b[0m)                      │ (\u001b[38;5;45mNone\u001b[0m, \u001b[38;5;34m64\u001b[0m)                  │               \u001b[38;5;34m0\u001b[0m │\n",
       "├──────────────────────────────────────┼─────────────────────────────┼─────────────────┤\n",
       "│ dropout_17 (\u001b[38;5;33mDropout\u001b[0m)                 │ (\u001b[38;5;45mNone\u001b[0m, \u001b[38;5;34m64\u001b[0m)                  │               \u001b[38;5;34m0\u001b[0m │\n",
       "├──────────────────────────────────────┼─────────────────────────────┼─────────────────┤\n",
       "│ dense_25 (\u001b[38;5;33mDense\u001b[0m)                     │ (\u001b[38;5;45mNone\u001b[0m, \u001b[38;5;34m64\u001b[0m)                  │           \u001b[38;5;34m4,160\u001b[0m │\n",
       "├──────────────────────────────────────┼─────────────────────────────┼─────────────────┤\n",
       "│ batch_normalization_18               │ (\u001b[38;5;45mNone\u001b[0m, \u001b[38;5;34m64\u001b[0m)                  │             \u001b[38;5;34m256\u001b[0m │\n",
       "│ (\u001b[38;5;33mBatchNormalization\u001b[0m)                 │                             │                 │\n",
       "├──────────────────────────────────────┼─────────────────────────────┼─────────────────┤\n",
       "│ re_lu_18 (\u001b[38;5;33mReLU\u001b[0m)                      │ (\u001b[38;5;45mNone\u001b[0m, \u001b[38;5;34m64\u001b[0m)                  │               \u001b[38;5;34m0\u001b[0m │\n",
       "├──────────────────────────────────────┼─────────────────────────────┼─────────────────┤\n",
       "│ dropout_18 (\u001b[38;5;33mDropout\u001b[0m)                 │ (\u001b[38;5;45mNone\u001b[0m, \u001b[38;5;34m64\u001b[0m)                  │               \u001b[38;5;34m0\u001b[0m │\n",
       "├──────────────────────────────────────┼─────────────────────────────┼─────────────────┤\n",
       "│ dense_26 (\u001b[38;5;33mDense\u001b[0m)                     │ (\u001b[38;5;45mNone\u001b[0m, \u001b[38;5;34m8\u001b[0m)                   │             \u001b[38;5;34m520\u001b[0m │\n",
       "└──────────────────────────────────────┴─────────────────────────────┴─────────────────┘\n"
      ]
     },
     "metadata": {},
     "output_type": "display_data"
    },
    {
     "data": {
      "text/html": [
       "<pre style=\"white-space:pre;overflow-x:auto;line-height:normal;font-family:Menlo,'DejaVu Sans Mono',consolas,'Courier New',monospace\"><span style=\"font-weight: bold\"> Total params: </span><span style=\"color: #00af00; text-decoration-color: #00af00\">14,600</span> (57.03 KB)\n",
       "</pre>\n"
      ],
      "text/plain": [
       "\u001b[1m Total params: \u001b[0m\u001b[38;5;34m14,600\u001b[0m (57.03 KB)\n"
      ]
     },
     "metadata": {},
     "output_type": "display_data"
    },
    {
     "data": {
      "text/html": [
       "<pre style=\"white-space:pre;overflow-x:auto;line-height:normal;font-family:Menlo,'DejaVu Sans Mono',consolas,'Courier New',monospace\"><span style=\"font-weight: bold\"> Trainable params: </span><span style=\"color: #00af00; text-decoration-color: #00af00\">14,088</span> (55.03 KB)\n",
       "</pre>\n"
      ],
      "text/plain": [
       "\u001b[1m Trainable params: \u001b[0m\u001b[38;5;34m14,088\u001b[0m (55.03 KB)\n"
      ]
     },
     "metadata": {},
     "output_type": "display_data"
    },
    {
     "data": {
      "text/html": [
       "<pre style=\"white-space:pre;overflow-x:auto;line-height:normal;font-family:Menlo,'DejaVu Sans Mono',consolas,'Courier New',monospace\"><span style=\"font-weight: bold\"> Non-trainable params: </span><span style=\"color: #00af00; text-decoration-color: #00af00\">512</span> (2.00 KB)\n",
       "</pre>\n"
      ],
      "text/plain": [
       "\u001b[1m Non-trainable params: \u001b[0m\u001b[38;5;34m512\u001b[0m (2.00 KB)\n"
      ]
     },
     "metadata": {},
     "output_type": "display_data"
    }
   ],
   "source": [
    "create_model(4, 64, 0.2).summary()"
   ]
  },
  {
   "cell_type": "code",
   "execution_count": null,
   "id": "8d724b0e-ccb4-414e-8d21-1754741ccc8c",
   "metadata": {},
   "outputs": [],
   "source": []
  }
 ],
 "metadata": {
  "kernelspec": {
   "display_name": "Python 3 (ipykernel)",
   "language": "python",
   "name": "python3"
  },
  "language_info": {
   "codemirror_mode": {
    "name": "ipython",
    "version": 3
   },
   "file_extension": ".py",
   "mimetype": "text/x-python",
   "name": "python",
   "nbconvert_exporter": "python",
   "pygments_lexer": "ipython3",
   "version": "3.9.13"
  }
 },
 "nbformat": 4,
 "nbformat_minor": 5
}
