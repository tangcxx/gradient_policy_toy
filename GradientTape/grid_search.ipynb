{
 "cells": [
  {
   "cell_type": "code",
   "execution_count": 1,
   "id": "424fc8e6-e309-4608-b270-a4fd7161eaaf",
   "metadata": {},
   "outputs": [],
   "source": [
    "import numpy as np\n",
    "import tensorflow as tf\n",
    "from tensorflow import keras\n",
    "from tensorflow.keras.layers import Input, Dense, BatchNormalization, ReLU, Dropout\n",
    "from tensorflow.keras.models import Model\n",
    "from itertools import product\n",
    "\n",
    "import functions as fs\n",
    "from functions import make_states, run, get_optimal_action_and_value, get_optimal_actions_and_values, get_model_actions\n",
    "from functions import test_model, one_batch, train, create_model"
   ]
  },
  {
   "cell_type": "markdown",
   "id": "66ccc071-42da-41b2-b9ca-44d190836c03",
   "metadata": {},
   "source": [
    "## 测试hyperparameters"
   ]
  },
  {
   "cell_type": "code",
   "execution_count": null,
   "id": "b386bfa4-1051-4061-97c1-49b3c578f4cf",
   "metadata": {},
   "outputs": [],
   "source": []
  },
  {
   "cell_type": "code",
   "execution_count": 4,
   "id": "74fe806e-7834-46b4-bda2-d3e32d92bda0",
   "metadata": {},
   "outputs": [
    {
     "name": "stdout",
     "output_type": "stream",
     "text": [
      "sgd 1 512 0.5 1151 0.71368549147575\n",
      "adam 1 512 0.5 3841 0.9000699519906299\n"
     ]
    }
   ],
   "source": [
    "for optimizer_name in ['sgd', 'adam']:\n",
    "    for n_hidden_layers in [1]:\n",
    "        for n_dense_units in [512]:\n",
    "            for ratio_dropout in [0.5]:\n",
    "                model = create_model(n_hidden_layers, n_dense_units, ratio_dropout)\n",
    "                optimizer = tf.keras.optimizers.SGD(learning_rate=0.01) if optimizer_name == 'sgd' else tf.keras.optimizers.Adam(learning_rate=0.001) \n",
    "                scores = np.array([one_batch(model, optimizer, batch_size=32, n_test_rounds=10000) for i in np.arange(4000)])[:, 0]\n",
    "                argmax = scores.argmax()\n",
    "                print(optimizer_name, n_hidden_layers, n_dense_units, ratio_dropout, argmax, scores[argmax])"
   ]
  },
  {
   "cell_type": "code",
   "execution_count": null,
   "id": "6dc5d847-e9cd-4925-9953-ad01135a2a8a",
   "metadata": {},
   "outputs": [],
   "source": []
  },
  {
   "cell_type": "code",
   "execution_count": null,
   "id": "fd6e3fe0-c5f1-4880-86e8-d4db3093a4a3",
   "metadata": {},
   "outputs": [],
   "source": []
  }
 ],
 "metadata": {
  "kernelspec": {
   "display_name": "Python 3 (ipykernel)",
   "language": "python",
   "name": "python3"
  },
  "language_info": {
   "codemirror_mode": {
    "name": "ipython",
    "version": 3
   },
   "file_extension": ".py",
   "mimetype": "text/x-python",
   "name": "python",
   "nbconvert_exporter": "python",
   "pygments_lexer": "ipython3",
   "version": "3.9.13"
  }
 },
 "nbformat": 4,
 "nbformat_minor": 5
}
