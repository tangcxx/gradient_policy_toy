{
 "cells": [
  {
   "cell_type": "code",
   "execution_count": 1,
   "id": "424fc8e6-e309-4608-b270-a4fd7161eaaf",
   "metadata": {},
   "outputs": [],
   "source": [
    "import numpy as np\n",
    "import tensorflow as tf\n",
    "from tensorflow import keras\n",
    "from tensorflow.keras.layers import Input, Dense, BatchNormalization, ReLU, Dropout\n",
    "from tensorflow.keras.models import Model, clone_model\n",
    "from itertools import product\n",
    "\n",
    "def make_state():\n",
    "    state = np.zeros(8)\n",
    "    state[np.random.choice(8, size=3, replace=False)] = np.random.uniform(low=UNIFORM_LOW, high=UNIFORM_HIGH, size=3)\n",
    "    return state\n",
    "\n",
    "def run(state, action):\n",
    "    if state[action] != 0:\n",
    "        return state[action]\n",
    "    else:\n",
    "        before, after = state[(action - 1) % 8], state[(action + 1) % 8]\n",
    "        if before != 0 and after != 0:\n",
    "            return before + after\n",
    "        else:\n",
    "            return 0\n",
    "\n",
    "def get_optimal_action_and_value(state):\n",
    "    values = np.array([run(state, action) for action in np.arange(8)])\n",
    "    optimal_action = values.argmax()\n",
    "    return optimal_action, values[optimal_action]\n",
    "\n",
    "def get_optimal_actions_and_values(state_list):\n",
    "    res = [get_optimal_action_and_value(state) for state in state_list]\n",
    "    actions = np.array([pairs[0] for pairs in res])\n",
    "    values = np.array([pairs[1] for pairs in res])\n",
    "    return actions, values\n",
    "    \n",
    "def get_optimal_statics(n_rounds):\n",
    "    state_list = np.array([make_state() for i in np.arange(n_rounds)])\n",
    "    _, values = get_optimal_actions_and_values(state_list)\n",
    "    return np.mean(values), np.std(values)\n",
    "\n",
    "def get_random_policy_statics(n_rounds):\n",
    "    values = [run(make_state(), np.random.choice(8)) for i in np.arange(n_rounds)]\n",
    "    return np.mean(values), np.std(values)\n",
    "\n",
    "def get_model_actions(model, state_list):\n",
    "    return model(np.array(state_list)).numpy().argmax(axis = 1)\n",
    "\n",
    "def test_model(model, n_test_rounds):\n",
    "    state_list = np.array([make_state() for i in np.arange(n_test_rounds)])\n",
    "    actions = get_model_actions(model, state_list)\n",
    "    values = [run(state, action) for state, action in zip(state_list, actions)]\n",
    "    optimal_actions, _ = get_optimal_actions_and_values(state_list)\n",
    "    accuracy = np.mean(actions == optimal_actions)\n",
    "    return np.mean(values), np.std(values), accuracy\n",
    "\n",
    "def train(model, max_batch=200, batch_size=128, n_test_rounds=10000, verbose = 0):\n",
    "    best_weights = []\n",
    "    best_idx = 0\n",
    "    best_score = 0\n",
    "    for i in np.arange(max_batch):\n",
    "        score, std, accuracy = one_batch(model, batch_size, n_test_rounds)\n",
    "        if best_score < score:\n",
    "            best_score = score\n",
    "            best_idx = i\n",
    "            best_weights = model.get_weights()\n",
    "        if verbose == 1:\n",
    "            print(i, score)\n",
    "    return best_idx, best_score, best_weights\n",
    "\n",
    "def create_model(n_hidden_layers, n_dense_units, ratio_dropout, optimizer):\n",
    "    input_shape = (8,) \n",
    "    inputs = Input(shape=input_shape)\n",
    "\n",
    "    x = inputs\n",
    "    for i in np.arange(n_hidden_layers):\n",
    "        x = Dense(n_dense_units)(x) \n",
    "        x = BatchNormalization()(x)\n",
    "        x = ReLU()(x)\n",
    "        x = Dropout(ratio_dropout)(x)\n",
    "    \n",
    "    outputs = Dense(8, activation='softmax')(x)\n",
    "    model = Model(inputs, outputs)\n",
    "    model.compile(optimizer=optimizer, \n",
    "                  loss='categorical_crossentropy')\n",
    "    return model\n"
   ]
  },
  {
   "cell_type": "code",
   "execution_count": null,
   "id": "610e553d-c497-48b2-a8a6-fa7136d517e3",
   "metadata": {},
   "outputs": [],
   "source": []
  },
  {
   "cell_type": "markdown",
   "id": "a5b609c8-8863-42d5-8c93-6e58d66e9b0a",
   "metadata": {},
   "source": [
    "## 不同奖励随机数区间"
   ]
  },
  {
   "cell_type": "code",
   "execution_count": 2,
   "id": "96b7deff-a8fd-4e28-af79-bb0ef4ea6bbc",
   "metadata": {},
   "outputs": [],
   "source": [
    "def one_batch(model, batch_size, n_test_rounds=0):\n",
    "    y_target_list = np.zeros((batch_size, 8))\n",
    "    state_list = np.array([make_state() for i in np.arange(batch_size)])\n",
    "    prob_list = model(np.array(state_list)).numpy()\n",
    "    actions = np.array([np.random.choice(8, p=prob) for prob in prob_list])\n",
    "    values = np.array([run(state, action) for state, action in zip(state_list, actions)])\n",
    "    mean, std = np.mean(values), np.std(values)\n",
    "    for i in np.arange(batch_size):\n",
    "        y_target_list[i, actions[i]] = values[i]\n",
    "    model.fit(state_list, y_target_list, verbose = 0)\n",
    "    if n_test_rounds > 0:\n",
    "        return test_model(model, n_test_rounds)\n"
   ]
  },
  {
   "cell_type": "code",
   "execution_count": 3,
   "id": "63431a58-a697-4dda-9278-1ee53fd826d5",
   "metadata": {},
   "outputs": [],
   "source": [
    "REWARD_OFFSET, REWARD_SCALE = 0, 1\n",
    "model = create_model(n_hidden_layers=1, n_dense_units=512, ratio_dropout=0.5, optimizer='adam')"
   ]
  },
  {
   "cell_type": "code",
   "execution_count": 4,
   "id": "abe32d79-1dc7-40da-9bca-ac163e7f42bb",
   "metadata": {
    "scrolled": true
   },
   "outputs": [
    {
     "data": {
      "text/plain": [
       "(np.int64(123),\n",
       " np.float64(0.8365815629062882),\n",
       " np.float64(0.3977246518784473),\n",
       " np.float64(0.6199))"
      ]
     },
     "execution_count": 4,
     "metadata": {},
     "output_type": "execute_result"
    }
   ],
   "source": [
    "UNIFORM_LOW, UNIFORM_HIGH = 0.0, 1.0\n",
    "best_idx, best_score, best_weights = train(model, 200, verbose = 0)\n",
    "best_model = clone_model(model)\n",
    "best_model.set_weights(best_weights)\n",
    "best_idx, *test_model(best_model, 10000)"
   ]
  },
  {
   "cell_type": "code",
   "execution_count": null,
   "id": "17e29a2e-892c-4803-9704-9550fa1deec6",
   "metadata": {},
   "outputs": [],
   "source": []
  },
  {
   "cell_type": "code",
   "execution_count": 5,
   "id": "b607ff89-a092-4cda-a74b-60e80540eef2",
   "metadata": {
    "scrolled": true
   },
   "outputs": [
    {
     "data": {
      "text/plain": [
       "(np.int64(50),\n",
       " np.float64(2.2389738138722524),\n",
       " np.float64(0.8090951607156687),\n",
       " np.float64(0.5838))"
      ]
     },
     "execution_count": 5,
     "metadata": {},
     "output_type": "execute_result"
    }
   ],
   "source": [
    "model = create_model(n_hidden_layers=1, n_dense_units=512, ratio_dropout=0.5, optimizer='adam')\n",
    "UNIFORM_LOW, UNIFORM_HIGH = 1.0, 2.0\n",
    "best_idx, best_score, best_weights = train(model, 200, verbose = 0)\n",
    "best_model = clone_model(model)\n",
    "best_model.set_weights(best_weights)\n",
    "best_idx, *test_model(best_model, 10000)"
   ]
  },
  {
   "cell_type": "code",
   "execution_count": null,
   "id": "fae60200-3d91-4407-8f3b-61b1656de7b0",
   "metadata": {},
   "outputs": [],
   "source": []
  },
  {
   "cell_type": "code",
   "execution_count": 6,
   "id": "a967f5b7-07ef-4b23-9c78-485c1c70d8fe",
   "metadata": {
    "scrolled": true
   },
   "outputs": [
    {
     "data": {
      "text/plain": [
       "(np.int64(16),\n",
       " np.float64(7.350747637099523),\n",
       " np.float64(4.218747072648944),\n",
       " np.float64(0.2109))"
      ]
     },
     "execution_count": 6,
     "metadata": {},
     "output_type": "execute_result"
    }
   ],
   "source": [
    "model = create_model(n_hidden_layers=1, n_dense_units=512, ratio_dropout=0.5, optimizer='adam')\n",
    "UNIFORM_LOW, UNIFORM_HIGH = 5.0, 10.0\n",
    "best_idx, best_score, best_weights = train(model, 200, verbose = 0)\n",
    "best_model = clone_model(model)\n",
    "best_model.set_weights(best_weights)\n",
    "best_idx, *test_model(best_model, 10000)"
   ]
  },
  {
   "cell_type": "code",
   "execution_count": null,
   "id": "b41c5ee4-fbec-4ff4-abee-047efe0dd57b",
   "metadata": {},
   "outputs": [],
   "source": []
  },
  {
   "cell_type": "markdown",
   "id": "02706e19-d450-4e18-a703-b450285fda4d",
   "metadata": {},
   "source": [
    "## 奖励归一化"
   ]
  },
  {
   "cell_type": "code",
   "execution_count": 7,
   "id": "044dc986-9e51-4921-ad08-96b8978d8494",
   "metadata": {},
   "outputs": [],
   "source": [
    "def one_batch(model, batch_size, n_test_rounds=0):\n",
    "    y_target_list = np.zeros((batch_size, 8))\n",
    "    state_list = np.array([make_state() for i in np.arange(batch_size)])\n",
    "    prob_list = model(np.array(state_list)).numpy()\n",
    "    actions = np.array([np.random.choice(8, p=prob) for prob in prob_list])\n",
    "    values = np.array([run(state, action) for state, action in zip(state_list, actions)])\n",
    "    mean, std = np.mean(values), np.std(values)\n",
    "    values = (values - mean) / std\n",
    "    for i in np.arange(batch_size):\n",
    "        y_target_list[i, actions[i]] = values[i]\n",
    "    model.fit(state_list, y_target_list, verbose = 0)\n",
    "    if n_test_rounds > 0:\n",
    "        return test_model(model, n_test_rounds)\n"
   ]
  },
  {
   "cell_type": "code",
   "execution_count": 8,
   "id": "2e050a5c-7b8f-4248-a481-52d95d9de80b",
   "metadata": {},
   "outputs": [],
   "source": [
    "UNIFORM_LOW, UNIFORM_HIGH = 0.0, 1.0"
   ]
  },
  {
   "cell_type": "code",
   "execution_count": 9,
   "id": "0abf94dd-d374-47e4-bda9-d97d88f885ee",
   "metadata": {},
   "outputs": [],
   "source": [
    "model = create_model(n_hidden_layers=1, n_dense_units=512, ratio_dropout=0.5, optimizer='adam')"
   ]
  },
  {
   "cell_type": "code",
   "execution_count": 10,
   "id": "2dec7872-a44e-4d0a-a024-ed68bff5c2b1",
   "metadata": {
    "scrolled": true
   },
   "outputs": [
    {
     "name": "stdout",
     "output_type": "stream",
     "text": [
      "0 0.324025908559573\n",
      "1 0.4009826038292922\n",
      "2 0.4725800851877768\n",
      "3 0.4682001248583665\n",
      "4 0.48242460928692527\n",
      "5 0.526010639594943\n",
      "6 0.5995684726922754\n",
      "7 0.6610100941869914\n",
      "8 0.694042042888597\n",
      "9 0.7132010591748202\n",
      "10 0.7206624662568765\n",
      "11 0.7069426140291699\n",
      "12 0.6994634719437034\n",
      "13 0.6893706104115694\n",
      "14 0.6782858412019099\n",
      "15 0.678353416610625\n",
      "16 0.6951821867455328\n",
      "17 0.7120587897349145\n",
      "18 0.7136139617660476\n",
      "19 0.7245669052488646\n",
      "20 0.7311229041500975\n",
      "21 0.7383053916842431\n",
      "22 0.7464501957408393\n",
      "23 0.7548443546635606\n",
      "24 0.7603790103438267\n",
      "25 0.772539416803183\n",
      "26 0.7629567852560326\n",
      "27 0.755279451133706\n",
      "28 0.7676895911268188\n",
      "29 0.772191245481607\n",
      "30 0.7744088217068392\n",
      "31 0.7588307739776661\n",
      "32 0.7455319997377027\n",
      "33 0.752548264503542\n",
      "34 0.7552880817753481\n",
      "35 0.7528597581473969\n",
      "36 0.7641584280103145\n",
      "37 0.7619194169196221\n",
      "38 0.7448756324930199\n",
      "39 0.7492611036392145\n",
      "40 0.7568774633533556\n",
      "41 0.7997111782752722\n",
      "42 0.7968888939523878\n",
      "43 0.7867231779284182\n",
      "44 0.7826488565782526\n",
      "45 0.7877733243007257\n",
      "46 0.7947150121716253\n",
      "47 0.7975403592210049\n",
      "48 0.808599361298669\n",
      "49 0.8118292019170321\n",
      "50 0.8044926012559983\n",
      "51 0.8210841630573721\n",
      "52 0.8362613366052108\n",
      "53 0.828493805311974\n",
      "54 0.8357913011453707\n",
      "55 0.8233413841734566\n",
      "56 0.8222396703493198\n",
      "57 0.8136968485806237\n",
      "58 0.8131145557291488\n",
      "59 0.8239466846391366\n",
      "60 0.8074067079104792\n",
      "61 0.8076293587223252\n",
      "62 0.8236871891064751\n",
      "63 0.8383466977954062\n",
      "64 0.8504814901255752\n",
      "65 0.8534001620094436\n",
      "66 0.8519563667203309\n",
      "67 0.8598409632946478\n",
      "68 0.8509503221086752\n",
      "69 0.8560696945099402\n",
      "70 0.8515918972442571\n",
      "71 0.8432014810693041\n",
      "72 0.8396190254056389\n",
      "73 0.8295126465027596\n",
      "74 0.8261733104817911\n",
      "75 0.8324780618121147\n",
      "76 0.8409550209244498\n",
      "77 0.8499578564686462\n",
      "78 0.8460482263308672\n",
      "79 0.8514319921441467\n",
      "80 0.8479969066535452\n",
      "81 0.8463223134825472\n",
      "82 0.8470977139999394\n",
      "83 0.8592929907776037\n",
      "84 0.8548345243155027\n",
      "85 0.8501040406084994\n",
      "86 0.8396609505925544\n",
      "87 0.8567634868760884\n",
      "88 0.8548812890610452\n",
      "89 0.8371019772439613\n",
      "90 0.8307958317921084\n",
      "91 0.8218246844421974\n",
      "92 0.8466386131915\n",
      "93 0.8535386327781805\n",
      "94 0.8518185012777704\n",
      "95 0.8548263696275921\n",
      "96 0.8524049629854988\n",
      "97 0.8519643116186285\n",
      "98 0.8532351886051751\n",
      "99 0.8414590940147698\n",
      "100 0.8469246706581791\n",
      "101 0.8462423159888253\n",
      "102 0.8479911045714893\n",
      "103 0.8402399799305742\n",
      "104 0.8438326736327121\n",
      "105 0.8403315922527421\n",
      "106 0.8456530488001069\n",
      "107 0.8495273082012649\n",
      "108 0.8501424488610035\n",
      "109 0.8456233309113637\n",
      "110 0.8534418250836076\n",
      "111 0.8464180334496999\n",
      "112 0.842588348112348\n",
      "113 0.844824304070351\n",
      "114 0.8319552418416977\n",
      "115 0.838378467582206\n",
      "116 0.8331430536909921\n",
      "117 0.840945103731921\n",
      "118 0.8448307796454292\n",
      "119 0.8239412076886586\n",
      "120 0.8263650617760999\n",
      "121 0.8364022987250511\n",
      "122 0.8456914691038748\n",
      "123 0.8337762406302592\n",
      "124 0.8487063449340893\n",
      "125 0.8153163385558347\n",
      "126 0.8277302168030223\n",
      "127 0.8248895395954321\n",
      "128 0.820874468432667\n",
      "129 0.8225443437011305\n",
      "130 0.8291297387941952\n",
      "131 0.808114078052689\n",
      "132 0.8174465979976591\n",
      "133 0.8343088766896275\n",
      "134 0.8235028514667829\n",
      "135 0.8206162155901408\n",
      "136 0.8196824753839291\n",
      "137 0.8236831733682939\n",
      "138 0.8165556666071059\n",
      "139 0.8211105668564934\n",
      "140 0.8191672834102137\n",
      "141 0.8066912576628247\n",
      "142 0.8107147122581928\n",
      "143 0.8123491971151335\n",
      "144 0.801752100188527\n",
      "145 0.8061956151407587\n",
      "146 0.8123211082571524\n",
      "147 0.8087799025182236\n",
      "148 0.8071202529564041\n",
      "149 0.7855875878791728\n",
      "150 0.7902776754995218\n",
      "151 0.8068723733549916\n",
      "152 0.8035702799834997\n",
      "153 0.8178398222111823\n",
      "154 0.8110268488670955\n",
      "155 0.8140296524985277\n",
      "156 0.7990071965918303\n",
      "157 0.8037803734163749\n",
      "158 0.8010564271873165\n",
      "159 0.7977299262477769\n",
      "160 0.8040542107604707\n",
      "161 0.8094118261955541\n",
      "162 0.7889892356728146\n",
      "163 0.7726229569218478\n",
      "164 0.7938921037149015\n",
      "165 0.8004929164581084\n",
      "166 0.7918485571247893\n",
      "167 0.7993726288878296\n",
      "168 0.8004973532438198\n",
      "169 0.781258308396119\n",
      "170 0.7722901468180615\n",
      "171 0.7832778281217119\n",
      "172 0.7800933793818574\n",
      "173 0.7726821139296055\n",
      "174 0.7825184585983969\n",
      "175 0.7736879651336496\n",
      "176 0.8023231190558054\n",
      "177 0.7952421833889165\n",
      "178 0.7784250353203459\n",
      "179 0.7845512983856558\n",
      "180 0.7963900678073695\n",
      "181 0.7937987521870259\n",
      "182 0.7955877432500639\n",
      "183 0.7885351304945726\n",
      "184 0.7752186741701279\n",
      "185 0.7767610730884753\n",
      "186 0.7751381467452382\n",
      "187 0.7580829240781191\n",
      "188 0.7621184315593943\n",
      "189 0.744025425332696\n",
      "190 0.7526809027166665\n",
      "191 0.7581515253677252\n",
      "192 0.744944752801762\n",
      "193 0.7709316541176906\n",
      "194 0.7213620402250462\n",
      "195 0.7490061496775985\n",
      "196 0.7574409512827871\n",
      "197 0.7474328502369297\n",
      "198 0.7582731037852017\n",
      "199 0.7626667909677546\n"
     ]
    },
    {
     "data": {
      "text/plain": [
       "(np.int64(67),\n",
       " np.float64(0.8563241051847839),\n",
       " np.float64(0.38296496005009173),\n",
       " np.float64(0.6396))"
      ]
     },
     "execution_count": 10,
     "metadata": {},
     "output_type": "execute_result"
    }
   ],
   "source": [
    "best_idx, best_score, best_weights = train(model, 200, verbose = 1)\n",
    "best_model = clone_model(model)\n",
    "best_model.set_weights(best_weights)\n",
    "best_idx, *test_model(best_model, 10000)"
   ]
  },
  {
   "cell_type": "code",
   "execution_count": null,
   "id": "a70818c8-aba8-40f2-807e-ed3ab75a00ee",
   "metadata": {},
   "outputs": [],
   "source": []
  },
  {
   "cell_type": "code",
   "execution_count": 11,
   "id": "b445fb38-9b24-49a4-b7ef-7f010f039eee",
   "metadata": {
    "scrolled": true
   },
   "outputs": [
    {
     "data": {
      "text/plain": [
       "(np.int64(36),\n",
       " np.float64(11.31440407582002),\n",
       " np.float64(5.000478602271562),\n",
       " np.float64(0.6284))"
      ]
     },
     "execution_count": 11,
     "metadata": {},
     "output_type": "execute_result"
    }
   ],
   "source": [
    "UNIFORM_LOW, UNIFORM_HIGH = 5.0, 10.0\n",
    "\n",
    "model = create_model(n_hidden_layers=1, n_dense_units=512, ratio_dropout=0.5, optimizer='adam')\n",
    "\n",
    "best_idx, best_score, best_weights = train(model, 200, verbose = 0)\n",
    "best_model = clone_model(model)\n",
    "best_model.set_weights(best_weights)\n",
    "best_idx, *test_model(best_model, 10000)"
   ]
  },
  {
   "cell_type": "code",
   "execution_count": null,
   "id": "456fa7e0-69ca-41b4-86ca-e8bd3df0605b",
   "metadata": {},
   "outputs": [],
   "source": []
  },
  {
   "cell_type": "code",
   "execution_count": 29,
   "id": "496b7abf-6f48-44f3-9e08-d431e4e47dad",
   "metadata": {
    "scrolled": true
   },
   "outputs": [
    {
     "data": {
      "text/plain": [
       "(np.int64(44),\n",
       " np.float64(10.605411811422607),\n",
       " np.float64(5.355002410544318),\n",
       " np.float64(0.5563))"
      ]
     },
     "execution_count": 29,
     "metadata": {},
     "output_type": "execute_result"
    }
   ],
   "source": [
    "UNIFORM_LOW, UNIFORM_HIGH = 5.0, 10.0\n",
    "\n",
    "model = create_model(n_hidden_layers=1, n_dense_units=512, ratio_dropout=0.5, optimizer='adam')\n",
    "\n",
    "best_idx, best_score, best_weights = train(model, 200, verbose = 0)\n",
    "best_model = clone_model(model)\n",
    "best_model.set_weights(best_weights)\n",
    "best_idx, *test_model(best_model, 10000)"
   ]
  },
  {
   "cell_type": "code",
   "execution_count": 12,
   "id": "f509aaf3-d40f-4e39-8b8c-778ebff5a4e1",
   "metadata": {},
   "outputs": [
    {
     "data": {
      "text/plain": [
       "(np.float64(12.384626933669336), np.float64(3.5770176421557487))"
      ]
     },
     "execution_count": 12,
     "metadata": {},
     "output_type": "execute_result"
    }
   ],
   "source": [
    "get_optimal_statics(10000)"
   ]
  },
  {
   "cell_type": "code",
   "execution_count": null,
   "id": "de37649e-60b8-4ae1-84d3-cf060e6a2dab",
   "metadata": {},
   "outputs": [],
   "source": []
  },
  {
   "cell_type": "markdown",
   "id": "ac8f1ac6-a895-49b8-92ca-2471908b9b17",
   "metadata": {},
   "source": [
    "## 奖励归一化-不减去平均值"
   ]
  },
  {
   "cell_type": "code",
   "execution_count": 13,
   "id": "991a1650-b065-405a-845a-97b292b5d70d",
   "metadata": {},
   "outputs": [],
   "source": [
    "def one_batch(model, batch_size, n_test_rounds=0):\n",
    "    y_target_list = np.zeros((batch_size, 8))\n",
    "    state_list = np.array([make_state() for i in np.arange(batch_size)])\n",
    "    prob_list = model(np.array(state_list)).numpy()\n",
    "    actions = np.array([np.random.choice(8, p=prob) for prob in prob_list])\n",
    "    values = np.array([run(state, action) for state, action in zip(state_list, actions)])\n",
    "    mean, std = np.mean(values), np.std(values)\n",
    "    values = values / std\n",
    "    for i in np.arange(batch_size):\n",
    "        y_target_list[i, actions[i]] = values[i]\n",
    "    model.fit(state_list, y_target_list, verbose = 0)\n",
    "    if n_test_rounds > 0:\n",
    "        return test_model(model, n_test_rounds)\n"
   ]
  },
  {
   "cell_type": "code",
   "execution_count": 14,
   "id": "c2c2367b-1f69-4375-9ee4-1ea2ec2dd9b3",
   "metadata": {},
   "outputs": [],
   "source": [
    "UNIFORM_LOW, UNIFORM_HIGH = 5.0, 10.0"
   ]
  },
  {
   "cell_type": "code",
   "execution_count": 15,
   "id": "13d9b66a-9e09-4864-b1b0-2b96d49d06e4",
   "metadata": {},
   "outputs": [],
   "source": [
    "model = create_model(n_hidden_layers=1, n_dense_units=512, ratio_dropout=0.5, optimizer='adam')"
   ]
  },
  {
   "cell_type": "code",
   "execution_count": 16,
   "id": "1148633c-ddb2-4443-a7ed-598951bf6029",
   "metadata": {
    "scrolled": true
   },
   "outputs": [
    {
     "data": {
      "text/plain": [
       "(np.int64(12),\n",
       " np.float64(9.037710135837656),\n",
       " np.float64(4.121299193723644),\n",
       " np.float64(0.3399))"
      ]
     },
     "execution_count": 16,
     "metadata": {},
     "output_type": "execute_result"
    }
   ],
   "source": [
    "best_idx, best_score, best_weights = train(model, 200, verbose = 0)\n",
    "best_model = clone_model(model)\n",
    "best_model.set_weights(best_weights)\n",
    "best_idx, *test_model(best_model, 10000)"
   ]
  },
  {
   "cell_type": "code",
   "execution_count": null,
   "id": "373bff20-b134-4b89-82c5-d77441e7d998",
   "metadata": {},
   "outputs": [],
   "source": []
  },
  {
   "cell_type": "markdown",
   "id": "a88a7989-5552-40f2-8487-47b45914375b",
   "metadata": {},
   "source": [
    "## 奖励归一化-不除以标准差"
   ]
  },
  {
   "cell_type": "code",
   "execution_count": 17,
   "id": "9ac35a27-109a-4fff-bd5a-10bbfcd3d37b",
   "metadata": {},
   "outputs": [],
   "source": [
    "def one_batch(model, batch_size, n_test_rounds=0):\n",
    "    y_target_list = np.zeros((batch_size, 8))\n",
    "    state_list = np.array([make_state() for i in np.arange(batch_size)])\n",
    "    prob_list = model(np.array(state_list)).numpy()\n",
    "    actions = np.array([np.random.choice(8, p=prob) for prob in prob_list])\n",
    "    values = np.array([run(state, action) for state, action in zip(state_list, actions)])\n",
    "    mean, std = np.mean(values), np.std(values)\n",
    "    values = values - mean\n",
    "    for i in np.arange(batch_size):\n",
    "        y_target_list[i, actions[i]] = values[i]\n",
    "    model.fit(state_list, y_target_list, verbose = 0)\n",
    "    if n_test_rounds > 0:\n",
    "        return test_model(model, n_test_rounds)\n"
   ]
  },
  {
   "cell_type": "code",
   "execution_count": 18,
   "id": "dcd1a958-566e-4fb9-ab73-8a9c8d305d27",
   "metadata": {},
   "outputs": [],
   "source": [
    "UNIFORM_LOW, UNIFORM_HIGH = 5.0, 10.0"
   ]
  },
  {
   "cell_type": "code",
   "execution_count": 19,
   "id": "ca4f3643-f53e-40f2-92c7-7276b8a993fd",
   "metadata": {},
   "outputs": [],
   "source": [
    "model = create_model(n_hidden_layers=1, n_dense_units=512, ratio_dropout=0.5, optimizer='adam')"
   ]
  },
  {
   "cell_type": "code",
   "execution_count": 20,
   "id": "35f70ea5-0536-4732-98d6-c081621a9b0f",
   "metadata": {
    "scrolled": true
   },
   "outputs": [
    {
     "data": {
      "text/plain": [
       "(np.int64(146),\n",
       " np.float64(10.49169860883918),\n",
       " np.float64(5.982210771388845),\n",
       " np.float64(0.575))"
      ]
     },
     "execution_count": 20,
     "metadata": {},
     "output_type": "execute_result"
    }
   ],
   "source": [
    "best_idx, best_score, best_weights = train(model, 200, verbose = 0)\n",
    "best_model = clone_model(model)\n",
    "best_model.set_weights(best_weights)\n",
    "best_idx, *test_model(best_model, 10000)"
   ]
  },
  {
   "cell_type": "code",
   "execution_count": null,
   "id": "93346f62-2403-414b-8ffa-248852f9dce5",
   "metadata": {},
   "outputs": [],
   "source": []
  },
  {
   "cell_type": "markdown",
   "id": "d7dffe29-a4d8-4a3d-a7f0-305b4124c037",
   "metadata": {},
   "source": [
    "# 用test_model 返回值做normalization"
   ]
  },
  {
   "cell_type": "code",
   "execution_count": 21,
   "id": "3395a42b-1003-41ea-b03f-172bd61414d0",
   "metadata": {},
   "outputs": [],
   "source": [
    "def one_batch(model, batch_size, mean=0, std=1, n_test_rounds=0):\n",
    "    y_target_list = np.zeros((batch_size, 8))\n",
    "    state_list = np.array([make_state() for i in np.arange(batch_size)])\n",
    "    prob_list = model(np.array(state_list)).numpy()\n",
    "    actions = np.array([np.random.choice(8, p=prob) for prob in prob_list])\n",
    "    values = np.array([run(state, action) for state, action in zip(state_list, actions)])\n",
    "    # mean, std = np.mean(values), np.std(values)\n",
    "    values = (values - mean) / std\n",
    "    for i in np.arange(batch_size):\n",
    "        y_target_list[i, actions[i]] = values[i]\n",
    "    model.fit(state_list, y_target_list, verbose = 0)\n",
    "    if n_test_rounds > 0:\n",
    "        return test_model(model, n_test_rounds)\n",
    "\n",
    "\n",
    "def train(model, max_batch=200, batch_size=128, n_test_rounds=10000, verbose = 0):\n",
    "    best_weights = []\n",
    "    best_idx = 0\n",
    "    best_score = 0\n",
    "    mean, std, accuracy = test_model(model, n_test_rounds)\n",
    "    for i in np.arange(max_batch):\n",
    "        mean, std, accuracy = one_batch(model, batch_size, mean, std, n_test_rounds)\n",
    "        if best_score < mean:\n",
    "            best_score = mean\n",
    "            best_idx = i\n",
    "            best_weights = model.get_weights()\n",
    "        if verbose == 1:\n",
    "            print(i, mean)\n",
    "    return best_idx, best_score, best_weights"
   ]
  },
  {
   "cell_type": "code",
   "execution_count": null,
   "id": "32afd999-b4c6-4bd0-9ffb-759c2b35c988",
   "metadata": {},
   "outputs": [],
   "source": []
  },
  {
   "cell_type": "code",
   "execution_count": 22,
   "id": "eb4e68a6-221c-45db-8432-54ed87ae6916",
   "metadata": {},
   "outputs": [],
   "source": [
    "UNIFORM_LOW, UNIFORM_HIGH = 5.0, 10.0"
   ]
  },
  {
   "cell_type": "code",
   "execution_count": 23,
   "id": "e5b5c206-d03d-40b3-aad9-fccb04b25c81",
   "metadata": {},
   "outputs": [],
   "source": [
    "model = create_model(n_hidden_layers=1, n_dense_units=512, ratio_dropout=0.5, optimizer='adam')"
   ]
  },
  {
   "cell_type": "code",
   "execution_count": 24,
   "id": "a627e017-3c21-4112-a946-44e976fdb245",
   "metadata": {
    "scrolled": true
   },
   "outputs": [
    {
     "name": "stdout",
     "output_type": "stream",
     "text": [
      "0 4.231585917094805\n",
      "1 5.491051363342523\n",
      "2 6.213190833028432\n",
      "3 7.285470936900939\n",
      "4 7.895660811068464\n",
      "5 8.30164959576419\n",
      "6 8.730141687128494\n",
      "7 8.98236819697338\n",
      "8 9.266040121077285\n",
      "9 9.357667937821564\n",
      "10 9.540048164160147\n",
      "11 9.603518234857834\n",
      "12 9.782618769252414\n",
      "13 9.810654878078562\n",
      "14 9.81533259111374\n",
      "15 9.943870575544574\n",
      "16 10.061304793302345\n",
      "17 10.15472793370369\n",
      "18 10.310217960549917\n",
      "19 10.380358647505517\n",
      "20 10.353950152873997\n",
      "21 10.487205065525796\n",
      "22 10.377052851272378\n",
      "23 10.51920339244479\n",
      "24 10.417675211953576\n",
      "25 10.331172750083851\n",
      "26 10.297185246169994\n",
      "27 10.182760981820978\n",
      "28 10.030562135746095\n",
      "29 10.219084992551068\n",
      "30 10.359164977418049\n",
      "31 10.59472277562399\n",
      "32 10.460929440363772\n",
      "33 10.502152001451952\n",
      "34 10.628316176853692\n",
      "35 10.669250687519595\n",
      "36 10.85759815206089\n",
      "37 11.06359115261493\n",
      "38 10.893100927141344\n",
      "39 10.869050441102107\n",
      "40 10.813160526723369\n",
      "41 10.434569782711364\n",
      "42 10.305317898053175\n",
      "43 10.020582350482739\n",
      "44 10.056262676741538\n",
      "45 10.408118520469081\n",
      "46 10.560562366590114\n",
      "47 10.920988446788893\n",
      "48 10.89132627874862\n",
      "49 10.928361983320452\n",
      "50 10.817933047974895\n",
      "51 10.57413193134727\n",
      "52 10.402343216704836\n",
      "53 10.263812166401971\n",
      "54 10.32865458379816\n",
      "55 10.795449559067237\n",
      "56 11.144232181518868\n",
      "57 10.9498909591007\n",
      "58 10.516020975753772\n",
      "59 10.033853491832845\n",
      "60 9.815313522570355\n",
      "61 9.890579631550226\n",
      "62 9.927052660337106\n",
      "63 10.17188812723489\n",
      "64 10.1479356044771\n",
      "65 10.101469605346594\n",
      "66 10.084526438550462\n",
      "67 9.793621090801995\n",
      "68 9.698163960606225\n",
      "69 9.767089471731223\n",
      "70 10.062235249135737\n",
      "71 10.240468906933097\n",
      "72 10.330561919829641\n",
      "73 10.499155586004868\n",
      "74 10.344484984419827\n",
      "75 10.446848714928631\n",
      "76 10.531364037596424\n",
      "77 10.050602608007264\n",
      "78 9.920138499054373\n",
      "79 10.277781301950734\n",
      "80 10.513100657061702\n",
      "81 10.917873435833096\n",
      "82 10.73144066715124\n",
      "83 10.583609356389916\n",
      "84 10.32537367385263\n",
      "85 10.41278703716516\n",
      "86 10.298648735957357\n",
      "87 10.178561074755821\n",
      "88 10.080889891395978\n",
      "89 9.921693378031994\n",
      "90 9.606870026212066\n",
      "91 9.652665521757948\n",
      "92 9.337553136870213\n",
      "93 8.904982685304697\n",
      "94 9.014472595613574\n",
      "95 9.618120013166804\n",
      "96 10.089753595677923\n",
      "97 10.293679062380765\n",
      "98 9.881683846016722\n",
      "99 10.233586568982664\n",
      "100 10.208494035843932\n",
      "101 9.9757542967541\n",
      "102 10.162233821405433\n",
      "103 9.443029546385745\n",
      "104 10.085696821317638\n",
      "105 10.025972411111725\n",
      "106 9.742928027826466\n",
      "107 9.495219912202279\n",
      "108 9.650032892258492\n",
      "109 9.43976034265098\n",
      "110 9.360886197069904\n",
      "111 9.805894142087459\n",
      "112 10.102784463038818\n",
      "113 10.260806607844744\n",
      "114 9.980538118450726\n",
      "115 9.815042009916509\n",
      "116 9.544659375428845\n",
      "117 9.696055760292333\n",
      "118 10.31860012444617\n",
      "119 10.348287503539504\n",
      "120 10.309283115047085\n",
      "121 9.85925312449302\n",
      "122 9.549568601384273\n",
      "123 9.64550599227871\n",
      "124 9.85638399265497\n",
      "125 9.565171246065246\n",
      "126 9.647456453455932\n",
      "127 9.755997614625038\n",
      "128 9.669074163943483\n",
      "129 10.182071603987009\n",
      "130 10.334132963707109\n",
      "131 10.135289790825599\n",
      "132 9.861560710194556\n",
      "133 9.129049895749185\n",
      "134 9.148099967316675\n",
      "135 9.421763734514757\n",
      "136 9.499065850951897\n",
      "137 9.377539479086696\n",
      "138 9.56317067559078\n",
      "139 10.375206989815764\n",
      "140 9.999982218958978\n",
      "141 9.593065493941376\n",
      "142 10.274251193473837\n",
      "143 9.256614742907336\n",
      "144 9.46561759500094\n",
      "145 10.14915316763202\n",
      "146 9.72034041899996\n",
      "147 9.073464605711365\n",
      "148 9.196067729514413\n",
      "149 9.941720684940108\n",
      "150 10.076160496768702\n",
      "151 10.309723529882081\n",
      "152 9.495232708432834\n",
      "153 8.575539482945752\n",
      "154 8.532355998569848\n",
      "155 8.831290927128647\n",
      "156 9.437432015453442\n",
      "157 8.995296656759843\n",
      "158 9.409164430495457\n",
      "159 9.073512740909168\n",
      "160 9.040481596308547\n",
      "161 8.9210449761767\n",
      "162 9.671345844635832\n",
      "163 9.810029400167247\n",
      "164 9.988975758111277\n",
      "165 9.968478057455576\n",
      "166 9.851115883209793\n",
      "167 9.902928464921073\n",
      "168 9.595446574448511\n",
      "169 8.919104499342701\n",
      "170 9.142937485325794\n",
      "171 9.517972964846601\n",
      "172 9.250787183894593\n",
      "173 9.218911500903276\n",
      "174 9.60650367142268\n",
      "175 10.011529652484716\n",
      "176 10.24984405247338\n",
      "177 10.441037840179261\n",
      "178 10.493399768229343\n",
      "179 10.087415025622452\n",
      "180 9.770328413257793\n",
      "181 9.938241148247105\n",
      "182 10.094372408233149\n",
      "183 10.018170025991147\n",
      "184 10.732211482543862\n",
      "185 10.474269265776185\n",
      "186 10.456611122129992\n",
      "187 10.345762841039235\n",
      "188 9.877543977047308\n",
      "189 9.6616645780862\n",
      "190 9.574759911863682\n",
      "191 9.196540709915423\n",
      "192 9.652048430141784\n",
      "193 9.596250258372326\n",
      "194 9.43476873391164\n",
      "195 9.199520689652013\n",
      "196 9.470313963816482\n",
      "197 9.75163903467546\n",
      "198 9.522319839390923\n",
      "199 9.178927385370464\n"
     ]
    },
    {
     "data": {
      "text/plain": [
       "(np.int64(56),\n",
       " np.float64(11.099993341046853),\n",
       " np.float64(5.153782088059489),\n",
       " np.float64(0.6062))"
      ]
     },
     "execution_count": 24,
     "metadata": {},
     "output_type": "execute_result"
    }
   ],
   "source": [
    "best_idx, best_score, best_weights = train(model, 200, verbose = 1)\n",
    "best_model = clone_model(model)\n",
    "best_model.set_weights(best_weights)\n",
    "best_idx, *test_model(best_model, 10000)"
   ]
  },
  {
   "cell_type": "code",
   "execution_count": null,
   "id": "9397b2f7-4aa2-4c03-ab1e-386b9f5265a9",
   "metadata": {},
   "outputs": [],
   "source": []
  },
  {
   "cell_type": "code",
   "execution_count": null,
   "id": "fc2da8b7-7100-4028-a8a2-4add14065bae",
   "metadata": {},
   "outputs": [],
   "source": []
  },
  {
   "cell_type": "code",
   "execution_count": null,
   "id": "fbe0d458-5467-4d09-8452-63922ffe8c7a",
   "metadata": {},
   "outputs": [],
   "source": []
  },
  {
   "cell_type": "code",
   "execution_count": 25,
   "id": "5acb490a-6c19-4e2d-bcc6-32b7525be13f",
   "metadata": {},
   "outputs": [],
   "source": [
    "tmp = np.array([[1,2,3],[4,5,6]])"
   ]
  },
  {
   "cell_type": "code",
   "execution_count": 26,
   "id": "fd6e3fe0-c5f1-4880-86e8-d4db3093a4a3",
   "metadata": {},
   "outputs": [],
   "source": [
    "tmp[[0,1], [1,2]] = [9,9]"
   ]
  },
  {
   "cell_type": "code",
   "execution_count": 27,
   "id": "09977983-769e-4b60-9bbe-c84be8c7b096",
   "metadata": {},
   "outputs": [
    {
     "data": {
      "text/plain": [
       "array([[1, 9, 3],\n",
       "       [4, 5, 9]])"
      ]
     },
     "execution_count": 27,
     "metadata": {},
     "output_type": "execute_result"
    }
   ],
   "source": [
    "tmp"
   ]
  },
  {
   "cell_type": "code",
   "execution_count": null,
   "id": "761c61db-3b1f-4a90-b0fa-df703846047f",
   "metadata": {},
   "outputs": [],
   "source": []
  },
  {
   "cell_type": "code",
   "execution_count": 28,
   "id": "aa7ca00e-2eaa-47af-bad3-25c1874ef987",
   "metadata": {},
   "outputs": [
    {
     "data": {
      "text/plain": [
       "(1, 2, 3, 4)"
      ]
     },
     "execution_count": 28,
     "metadata": {},
     "output_type": "execute_result"
    }
   ],
   "source": [
    "1, *(2,3,4)"
   ]
  },
  {
   "cell_type": "code",
   "execution_count": null,
   "id": "1ad0ba7d-e94f-4e19-a05d-00d766de1132",
   "metadata": {},
   "outputs": [],
   "source": []
  },
  {
   "cell_type": "code",
   "execution_count": null,
   "id": "53f41da2-ca3b-4a21-8936-6e1f32faaca4",
   "metadata": {},
   "outputs": [],
   "source": []
  },
  {
   "cell_type": "code",
   "execution_count": null,
   "id": "e33237ec-7fe5-473e-92b7-e01ff28e1b34",
   "metadata": {},
   "outputs": [],
   "source": []
  },
  {
   "cell_type": "code",
   "execution_count": null,
   "id": "aea383e6-15ef-4611-b7cb-f6fe3a9f8484",
   "metadata": {},
   "outputs": [],
   "source": []
  }
 ],
 "metadata": {
  "kernelspec": {
   "display_name": "Python 3 (ipykernel)",
   "language": "python",
   "name": "python3"
  },
  "language_info": {
   "codemirror_mode": {
    "name": "ipython",
    "version": 3
   },
   "file_extension": ".py",
   "mimetype": "text/x-python",
   "name": "python",
   "nbconvert_exporter": "python",
   "pygments_lexer": "ipython3",
   "version": "3.9.13"
  }
 },
 "nbformat": 4,
 "nbformat_minor": 5
}
