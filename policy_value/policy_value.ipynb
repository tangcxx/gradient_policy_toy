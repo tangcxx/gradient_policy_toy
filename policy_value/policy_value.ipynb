{
 "cells": [
  {
   "cell_type": "code",
   "execution_count": 1,
   "id": "574a87e8-7177-451d-ba1c-9cbd5535de1d",
   "metadata": {},
   "outputs": [],
   "source": [
    "import numpy as np\n",
    "import tensorflow as tf\n",
    "from tensorflow import keras\n",
    "from tensorflow.keras.layers import Input, Dense, BatchNormalization, ReLU, Dropout\n",
    "from tensorflow.keras.models import Model, clone_model\n",
    "from itertools import product\n",
    "\n",
    "def make_states(n):\n",
    "    states = np.zeros((n,8))\n",
    "    for i in np.arange(n):\n",
    "        idx = np.random.choice(8, size=3, replace=False)\n",
    "        states[i, idx] = np.random.uniform(0.0, 1.0, size=3)\n",
    "    return states\n",
    "    \n",
    "def run(state, action):\n",
    "    if state[action] != 0:\n",
    "        return state[action]\n",
    "    else:\n",
    "        before, after = state[(action - 1) % 8], state[(action + 1) % 8]\n",
    "        if before != 0 and after != 0:\n",
    "            return before + after\n",
    "        else:\n",
    "            return 0\n",
    "\n",
    "def get_optimal_action_and_value(state):\n",
    "    values = np.array([run(state, action) for action in np.arange(8)])\n",
    "    optimal_action = values.argmax()\n",
    "    return optimal_action, values[optimal_action]\n",
    "\n",
    "def get_optimal_actions_and_values(state_list):\n",
    "    res = [get_optimal_action_and_value(state) for state in state_list]\n",
    "    actions = np.array([pairs[0] for pairs in res])\n",
    "    values = np.array([pairs[1] for pairs in res])\n",
    "    return actions, values\n",
    "    \n",
    "def get_optimal_statics(n_rounds):\n",
    "    state_list = make_states(n_rounds)\n",
    "    _, values = get_optimal_actions_and_values(state_list)\n",
    "    return np.mean(values), np.std(values)\n",
    "\n",
    "def get_random_policy_statics(n_rounds):\n",
    "    values = [run(state, np.random.choice(8)) for state in make_states(n_rounds)]\n",
    "    return np.mean(values), np.std(values)\n",
    "\n",
    "def get_model_actions(model, state_list):\n",
    "    return model(np.array(state_list)).numpy().argmax(axis = 1)\n",
    "\n",
    "def test_model(model, n_test_rounds):\n",
    "    state_list = make_states(n_test_rounds)\n",
    "    actions = get_model_actions(model, state_list)\n",
    "    values = [run(state, action) for state, action in zip(state_list, actions)]\n",
    "    optimal_actions, _ = get_optimal_actions_and_values(state_list)\n",
    "    accuracy = np.mean(actions == optimal_actions)\n",
    "    return np.mean(values), np.std(values), accuracy\n",
    "\n",
    "def one_batch(model, optimizer, batch_size=128, n_test_rounds=10000):\n",
    "    states = make_states(batch_size)\n",
    "    _, optimal_values = get_optimal_actions_and_values(states)\n",
    "    with tf.GradientTape() as tape:\n",
    "        probs = model(states)\n",
    "\n",
    "        actions = np.array([np.random.choice(8, p=prob) for prob in probs.numpy()])\n",
    "        rewards = np.array([run(state, action) for state, action in zip(states, actions)])\n",
    "        rewards = rewards - optimal_values\n",
    "        rewards = (rewards - np.mean(rewards)) / (np.std(rewards) + 1e-8)\n",
    "\n",
    "        action_probs = tf.gather_nd(probs, [[i, a] for i, a in enumerate(actions)])\n",
    "        log_probs = tf.math.log(action_probs)\n",
    "        loss = -tf.reduce_mean(log_probs * rewards)\n",
    "    \n",
    "    gradients = tape.gradient(loss, model.trainable_variables)\n",
    "    optimizer.apply_gradients(zip(gradients, model.trainable_variables))\n",
    "\n",
    "def train(model, optimizer, one_batch, max_batch=200, batch_size=32, test_lapse = 10, n_test_rounds=10000, verbose = 0):\n",
    "    best_weights = []\n",
    "    best_idx = 0\n",
    "    best_score = 0\n",
    "    for i in np.arange(max_batch):\n",
    "        one_batch(model, optimizer, batch_size)\n",
    "        if (i+1) % test_lapse == 0 or i + 1 == max_batch:\n",
    "            score, _, accuracy = test_model(model, n_test_rounds)\n",
    "            if best_score < score:\n",
    "                best_score = score\n",
    "                best_idx = i\n",
    "                best_weights = model.get_weights()\n",
    "            if verbose == 1:\n",
    "                print(i+1, score, accuracy)\n",
    "    return best_idx, best_score, best_weights\n",
    "\n",
    "def create_model(n_hidden_layers, n_dense_units, ratio_dropout):\n",
    "    input_shape = (8,) \n",
    "    inputs = Input(shape=input_shape)\n",
    "\n",
    "    x = inputs\n",
    "    for i in np.arange(n_hidden_layers):\n",
    "        x = Dense(n_dense_units)(x) \n",
    "        x = BatchNormalization()(x)\n",
    "        x = ReLU()(x)\n",
    "        x = Dropout(ratio_dropout)(x)\n",
    "    \n",
    "    outputs = Dense(8, activation='softmax')(x)\n",
    "    model = Model(inputs, outputs)\n",
    "    return model\n",
    "\n",
    "\n"
   ]
  },
  {
   "cell_type": "markdown",
   "id": "849adc9f-2425-412c-9fdd-ebb3e74f24cf",
   "metadata": {},
   "source": [
    "# 实验场"
   ]
  },
  {
   "cell_type": "code",
   "execution_count": 24,
   "id": "3c3bd7c4-6113-4858-94f1-8d18b1cbff9e",
   "metadata": {},
   "outputs": [],
   "source": [
    "def create_model_policy_value(n_hidden_layers, n_dense_units, ratio_dropout):\n",
    "    input_shape = (8,) \n",
    "    inputs = Input(shape=input_shape)\n",
    "\n",
    "    x = inputs\n",
    "    for i in np.arange(n_hidden_layers):\n",
    "        x = Dense(n_dense_units)(x) \n",
    "        x = BatchNormalization()(x)\n",
    "        x = ReLU()(x)\n",
    "        x = Dropout(ratio_dropout)(x)\n",
    "    \n",
    "    probs = Dense(8, activation='softmax')(x)\n",
    "    values = Dense(1)(x)\n",
    "    model = Model(inputs, [probs, values])\n",
    "    return model\n",
    "\n",
    "def one_batch(model, optimizer, batch_size=128, n_test_rounds=10000):\n",
    "    states = make_states(batch_size)\n",
    "    _, optimal_values = get_optimal_actions_and_values(states)\n",
    "    with tf.GradientTape() as tape:\n",
    "        probs = model(states)\n",
    "\n",
    "        actions = np.array([np.random.choice(8, p=prob) for prob in probs.numpy()])\n",
    "        rewards = np.array([run(state, action) for state, action in zip(states, actions)])\n",
    "        rewards = rewards - optimal_values\n",
    "        rewards = (rewards - np.mean(rewards)) / (np.std(rewards) + 1e-8)\n",
    "\n",
    "        action_probs = tf.gather_nd(probs, [[i, a] for i, a in enumerate(actions)])\n",
    "        log_probs = tf.math.log(action_probs)\n",
    "        loss = -tf.reduce_mean(log_probs * rewards)\n",
    "    \n",
    "    gradients = tape.gradient(loss, model.trainable_variables)\n",
    "    optimizer.apply_gradients(zip(gradients, model.trainable_variables))"
   ]
  },
  {
   "cell_type": "code",
   "execution_count": 25,
   "id": "948446c7-537f-4adb-963a-b274508c0d06",
   "metadata": {},
   "outputs": [],
   "source": [
    "model = create_model_policy_value(n_hidden_layers=2, n_dense_units=256, ratio_dropout=0.2)"
   ]
  },
  {
   "cell_type": "code",
   "execution_count": 26,
   "id": "98c59ef5-61f5-4c00-b81b-cadd70af58ba",
   "metadata": {},
   "outputs": [],
   "source": [
    "states = make_states(10)"
   ]
  },
  {
   "cell_type": "code",
   "execution_count": 30,
   "id": "2261afad-c240-4d67-b15f-cbfb167d366e",
   "metadata": {},
   "outputs": [
    {
     "data": {
      "text/plain": [
       "array([[ 0.03974233],\n",
       "       [ 0.04402713],\n",
       "       [ 0.0739365 ],\n",
       "       [-0.00650854],\n",
       "       [ 0.02607722],\n",
       "       [ 0.03477475],\n",
       "       [ 0.03529577],\n",
       "       [-0.00736863],\n",
       "       [ 0.05722967],\n",
       "       [-0.02273199]], dtype=float32)"
      ]
     },
     "execution_count": 30,
     "metadata": {},
     "output_type": "execute_result"
    }
   ],
   "source": [
    "model(states)[1].numpy()"
   ]
  },
  {
   "cell_type": "code",
   "execution_count": null,
   "id": "b96dc179-ea6f-41a6-bad3-42b7de966721",
   "metadata": {},
   "outputs": [],
   "source": []
  },
  {
   "cell_type": "code",
   "execution_count": null,
   "id": "e68464a8-e331-48de-8b63-92cc5577dd86",
   "metadata": {},
   "outputs": [],
   "source": []
  },
  {
   "cell_type": "code",
   "execution_count": null,
   "id": "e8c3c93d-3b85-489d-a9e0-abefe50d37b5",
   "metadata": {},
   "outputs": [],
   "source": []
  },
  {
   "cell_type": "code",
   "execution_count": 6,
   "id": "827145ee-b78c-4833-8e0b-889a948423f5",
   "metadata": {},
   "outputs": [],
   "source": [
    "model = create_model(n_hidden_layers=2, n_dense_units=256, ratio_dropout=0.2)\n",
    "optimizer = tf.keras.optimizers.Adam(learning_rate=0.001)"
   ]
  },
  {
   "cell_type": "code",
   "execution_count": 20,
   "id": "646a66b3-c03a-46d4-8e99-8d2cc00fae30",
   "metadata": {
    "scrolled": true
   },
   "outputs": [
    {
     "name": "stdout",
     "output_type": "stream",
     "text": [
      "20 0.8960870149877559 0.8304\n",
      "40 0.9076194765525001 0.8413\n",
      "60 0.9029266044766424 0.8532\n",
      "80 0.9038879968016187 0.853\n",
      "100 0.9020123545903204 0.8316\n",
      "120 0.9071614226348869 0.8422\n",
      "140 0.9073540566056941 0.8305\n",
      "160 0.9041681096216482 0.8346\n",
      "180 0.9061435086673835 0.8217\n",
      "200 0.9095106784353649 0.8369\n",
      "220 0.9025841494865614 0.8319\n",
      "240 0.905591764061468 0.8318\n",
      "260 0.9095371271485961 0.8436\n",
      "280 0.8983308780198241 0.8244\n",
      "300 0.9046434174915423 0.8332\n",
      "320 0.899258424497148 0.8412\n",
      "340 0.9092407083110465 0.836\n",
      "360 0.9180629451771088 0.8427\n",
      "380 0.9133893399209071 0.8342\n",
      "400 0.9062845166730105 0.8369\n",
      "420 0.8953698476621019 0.824\n",
      "440 0.9048430723551579 0.8366\n",
      "460 0.9104745820641178 0.8477\n",
      "480 0.9102073951387556 0.8491\n",
      "500 0.9041883633057569 0.8392\n",
      "520 0.9059591794708518 0.8281\n",
      "540 0.909668978266422 0.84\n",
      "560 0.9045257576769312 0.8425\n",
      "580 0.9080147208624019 0.8435\n",
      "600 0.9122698918135024 0.8448\n",
      "620 0.9024951778338013 0.8391\n",
      "640 0.9089059605319711 0.8186\n",
      "660 0.9048960805727633 0.8277\n",
      "680 0.9066121751905685 0.8486\n",
      "700 0.9102155835276698 0.8364\n",
      "720 0.9078042246195688 0.853\n",
      "740 0.9061914893484972 0.8425\n",
      "760 0.9133745937141524 0.8516\n",
      "780 0.9114834005504606 0.8518\n",
      "800 0.9074265875433907 0.8519\n",
      "820 0.9110217027750667 0.859\n",
      "840 0.9075393509507137 0.8553\n",
      "860 0.9085175267016393 0.8509\n",
      "880 0.9144812880989932 0.8546\n",
      "900 0.9086292656811724 0.8416\n",
      "920 0.9064523805434587 0.8398\n",
      "940 0.9103567451095843 0.8435\n",
      "960 0.9171367124014763 0.871\n",
      "980 0.9134030181749054 0.8713\n",
      "1000 0.922756879064227 0.8798\n"
     ]
    }
   ],
   "source": [
    "best_idx, best_score, best_weights = train(model, optimizer, one_batch, max_batch=1000, batch_size=128, test_lapse = 20, n_test_rounds=10000, verbose = 1)"
   ]
  },
  {
   "cell_type": "code",
   "execution_count": 22,
   "id": "94a4c9fd-8a9f-4b53-8306-531c1853d5c5",
   "metadata": {
    "scrolled": true
   },
   "outputs": [
    {
     "data": {
      "text/plain": [
       "(np.float64(0.9155448423118432),\n",
       " np.float64(0.3680161888532063),\n",
       " np.float64(0.8786))"
      ]
     },
     "execution_count": 22,
     "metadata": {},
     "output_type": "execute_result"
    }
   ],
   "source": [
    "test_model(model, 10000)"
   ]
  },
  {
   "cell_type": "code",
   "execution_count": 21,
   "id": "e741b506-762d-4c33-9a4d-6f85a482f32d",
   "metadata": {},
   "outputs": [
    {
     "data": {
      "text/plain": [
       "(np.float64(0.9087939350877746),\n",
       " np.float64(0.3691985078241972),\n",
       " np.float64(0.8767))"
      ]
     },
     "execution_count": 21,
     "metadata": {},
     "output_type": "execute_result"
    }
   ],
   "source": [
    "best_model = clone_model(model)\n",
    "best_model.set_weights(best_weights)\n",
    "test_model(best_model, 10000)"
   ]
  },
  {
   "cell_type": "code",
   "execution_count": null,
   "id": "56aa67e7-2dfb-4422-b7ac-41b6e5a78a27",
   "metadata": {},
   "outputs": [],
   "source": []
  }
 ],
 "metadata": {
  "kernelspec": {
   "display_name": "Python 3 (ipykernel)",
   "language": "python",
   "name": "python3"
  },
  "language_info": {
   "codemirror_mode": {
    "name": "ipython",
    "version": 3
   },
   "file_extension": ".py",
   "mimetype": "text/x-python",
   "name": "python",
   "nbconvert_exporter": "python",
   "pygments_lexer": "ipython3",
   "version": "3.9.13"
  }
 },
 "nbformat": 4,
 "nbformat_minor": 5
}
