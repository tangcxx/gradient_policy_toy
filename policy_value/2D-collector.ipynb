{
 "cells": [
  {
   "cell_type": "markdown",
   "id": "7049d09c-b203-402a-aa75-e40f2c092425",
   "metadata": {},
   "source": [
    "# 问题描述\n",
    "\n",
    "5*5格子，随机1格 为bot出生点、1格为电池、5格为奖励积分。bot 能量上限为5，初始为5，每走1步消耗1能量，电池增加3能量。能量耗尽游戏结束。游戏目标是获取尽可能多的积分。\n",
    "\n",
    "状态描述：5*5格子，剩余能量"
   ]
  },
  {
   "cell_type": "code",
   "execution_count": 1,
   "id": "37ca7a6e-7f40-4f23-b2cc-4481c7c4127d",
   "metadata": {},
   "outputs": [],
   "source": [
    "import numpy as np"
   ]
  },
  {
   "cell_type": "code",
   "execution_count": 32,
   "id": "a9e2e422-1ee1-4cfc-b353-b1a1511a3c48",
   "metadata": {},
   "outputs": [],
   "source": [
    "# 5*5*6\n",
    "NROW, NCOL, NCHANNEL = 5, 5, 6\n",
    "INITIAL_ENERGY = 5\n",
    "def make_state():\n",
    "    state = np.zeros((5,5,6))\n",
    "    cells = np.zeros(7, int)\n",
    "    cells = np.random.choice(NROW*NCOL, size=7, replace=False)\n",
    "    xs = cells // 5\n",
    "    ys = cells % 5\n",
    "    state[xs[0], ys[0], 0] = 1  # 出生点\n",
    "    state[xs[1], ys[1], 1] = 1  # 电池\n",
    "    for reward in np.arange(2, 7):  # 奖励\n",
    "        state[xs[reward], ys[reward], 2] = 1\n",
    "    set_state_energy(state, INITIAL_ENERGY)\n",
    "    return cells, xs, ys, state"
   ]
  },
  {
   "cell_type": "code",
   "execution_count": 36,
   "id": "d2cbc217-a50d-4d9b-a6f2-3d9fc7538b19",
   "metadata": {},
   "outputs": [
    {
     "data": {
      "text/plain": [
       "(array([13,  5,  7, 17, 19, 12, 24], dtype=int32),\n",
       " array([2, 1, 1, 3, 3, 2, 4], dtype=int32),\n",
       " array([3, 0, 2, 2, 4, 2, 4], dtype=int32),\n",
       " array([[0., 0., 0., 0., 0.],\n",
       "        [1., 0., 0., 0., 0.],\n",
       "        [0., 0., 0., 0., 0.],\n",
       "        [0., 0., 0., 0., 0.],\n",
       "        [0., 0., 0., 0., 0.]]))"
      ]
     },
     "execution_count": 36,
     "metadata": {},
     "output_type": "execute_result"
    }
   ],
   "source": [
    "cells, xs, ys, states = make_state()\n",
    "cells, xs, ys, states[:,:,1]"
   ]
  },
  {
   "cell_type": "code",
   "execution_count": 24,
   "id": "a7a46aac-e5df-4ee2-87a4-2e5f20d3f808",
   "metadata": {},
   "outputs": [
    {
     "data": {
      "text/plain": [
       "array([[[0., 0., 0., 0., 0., 0.],\n",
       "        [0., 0., 0., 0., 0., 0.],\n",
       "        [0., 0., 0., 0., 0., 0.],\n",
       "        [0., 0., 0., 0., 0., 0.],\n",
       "        [0., 0., 0., 0., 0., 0.]],\n",
       "\n",
       "       [[0., 0., 0., 0., 0., 0.],\n",
       "        [0., 0., 0., 0., 0., 0.],\n",
       "        [0., 0., 0., 0., 0., 0.],\n",
       "        [1., 0., 0., 0., 0., 0.],\n",
       "        [0., 0., 0., 0., 0., 0.]],\n",
       "\n",
       "       [[0., 0., 0., 0., 0., 0.],\n",
       "        [0., 0., 0., 0., 0., 0.],\n",
       "        [0., 0., 0., 0., 0., 0.],\n",
       "        [0., 0., 0., 0., 0., 0.],\n",
       "        [0., 0., 0., 0., 0., 0.]],\n",
       "\n",
       "       [[0., 0., 0., 0., 0., 0.],\n",
       "        [0., 0., 0., 0., 0., 0.],\n",
       "        [0., 0., 0., 0., 0., 0.],\n",
       "        [0., 0., 0., 0., 0., 0.],\n",
       "        [0., 0., 0., 0., 0., 0.]],\n",
       "\n",
       "       [[0., 0., 0., 0., 0., 0.],\n",
       "        [0., 0., 0., 0., 0., 0.],\n",
       "        [0., 0., 0., 0., 0., 0.],\n",
       "        [0., 0., 0., 0., 0., 0.],\n",
       "        [0., 0., 0., 0., 0., 0.]]])"
      ]
     },
     "execution_count": 24,
     "metadata": {},
     "output_type": "execute_result"
    }
   ],
   "source": [
    "states[0]"
   ]
  },
  {
   "cell_type": "code",
   "execution_count": null,
   "id": "71439154-aef7-457d-ade5-83cafdd183ad",
   "metadata": {},
   "outputs": [],
   "source": []
  }
 ],
 "metadata": {
  "kernelspec": {
   "display_name": "Python 3 (ipykernel)",
   "language": "python",
   "name": "python3"
  },
  "language_info": {
   "codemirror_mode": {
    "name": "ipython",
    "version": 3
   },
   "file_extension": ".py",
   "mimetype": "text/x-python",
   "name": "python",
   "nbconvert_exporter": "python",
   "pygments_lexer": "ipython3",
   "version": "3.9.13"
  }
 },
 "nbformat": 4,
 "nbformat_minor": 5
}
